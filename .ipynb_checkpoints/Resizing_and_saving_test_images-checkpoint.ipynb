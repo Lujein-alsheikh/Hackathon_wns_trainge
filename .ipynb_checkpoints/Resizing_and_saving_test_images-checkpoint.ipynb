{
 "cells": [
  {
   "cell_type": "code",
   "execution_count": 23,
   "id": "e78fedd1-e85a-442f-bfb7-7da69c0537ea",
   "metadata": {
    "tags": []
   },
   "outputs": [],
   "source": [
    "import numpy as np\n",
    "import pandas as pd\n",
    "\n",
    "import os\n",
    "from glob import glob\n",
    "\n",
    "import PIL\n",
    "from PIL import Image"
   ]
  },
  {
   "cell_type": "code",
   "execution_count": 3,
   "id": "73833367-a1c2-488b-9ebd-e0500fdaab7d",
   "metadata": {
    "tags": []
   },
   "outputs": [],
   "source": [
    "training_df = pd.read_csv(\"./train_hackathon/train.csv\")\n",
    "test_df = pd.read_csv(\"./test_hackathon/test.csv\")"
   ]
  },
  {
   "cell_type": "code",
   "execution_count": 3,
   "id": "36aa253c-680f-420e-934d-258f64182856",
   "metadata": {
    "tags": []
   },
   "outputs": [],
   "source": [
    "resized_test_images_path = \"./test_hackathon/resized_images/\"\n",
    "if not os.path.exists(resized_test_images_path):\n",
    "    os.makedirs(resized_test_images_path)"
   ]
  },
  {
   "cell_type": "code",
   "execution_count": 6,
   "id": "c44e55ef-c7ea-4267-8556-c5f12bdc3a3a",
   "metadata": {
    "tags": []
   },
   "outputs": [],
   "source": [
    "test_imgs_folder_path = \"./test_hackathon/images/\"\n",
    "smallest_size=(800,600)\n",
    "\n",
    "for img_name in test_df[\"filename\"]:\n",
    "      original_image_path = test_imgs_folder_path + img_name\n",
    "      resized_image = Image.open(original_image_path).resize(smallest_size)\n",
    "      resized_image_path = resized_test_images_path + img_name\n",
    "      resized_image.save(resized_image_path) "
   ]
  },
  {
   "cell_type": "code",
   "execution_count": 25,
   "id": "7931d94f-d8f3-40ef-a60d-dda6d6830868",
   "metadata": {
    "tags": []
   },
   "outputs": [],
   "source": [
    "# Check that resized images all have size 800x600\n",
    "\n",
    "def different_size_images(images_folder, df, size_x, size_y):\n",
    "    different_size_images= []\n",
    "    for img_name in df[\"filename\"]:\n",
    "        img_path = os.path.join(images_folder, img_name)\n",
    "        with Image.open(img_path) as img:\n",
    "            if img.size != (size_x, size_y):\n",
    "                different_size_images.append(img_name)\n",
    "    return different_size_images"
   ]
  },
  {
   "cell_type": "code",
   "execution_count": 24,
   "id": "19223603-15dc-4af9-a7ae-a2c77bb83787",
   "metadata": {},
   "outputs": [
    {
     "data": {
      "text/plain": [
       "[]"
      ]
     },
     "execution_count": 24,
     "metadata": {},
     "output_type": "execute_result"
    }
   ],
   "source": [
    "different_size_images(\"./test_hackathon/resized_images/\", test_df, 800, 600)"
   ]
  },
  {
   "cell_type": "code",
   "execution_count": null,
   "id": "7b8fa855-bca5-48bd-ba27-991d0e0ef7cb",
   "metadata": {},
   "outputs": [],
   "source": []
  }
 ],
 "metadata": {
  "kernelspec": {
   "display_name": "Python 3 (ipykernel)",
   "language": "python",
   "name": "python3"
  },
  "language_info": {
   "codemirror_mode": {
    "name": "ipython",
    "version": 3
   },
   "file_extension": ".py",
   "mimetype": "text/x-python",
   "name": "python",
   "nbconvert_exporter": "python",
   "pygments_lexer": "ipython3",
   "version": "3.11.5"
  }
 },
 "nbformat": 4,
 "nbformat_minor": 5
}
