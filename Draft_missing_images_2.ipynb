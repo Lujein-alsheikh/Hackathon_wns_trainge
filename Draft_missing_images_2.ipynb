{
  "nbformat": 4,
  "nbformat_minor": 0,
  "metadata": {
    "colab": {
      "provenance": []
    },
    "kernelspec": {
      "name": "python3",
      "display_name": "Python 3"
    },
    "language_info": {
      "name": "python"
    }
  },
  "cells": [
    {
      "cell_type": "markdown",
      "source": [
        "This is to check that the images are complete."
      ],
      "metadata": {
        "id": "1EcZbvVQSphE"
      }
    },
    {
      "cell_type": "code",
      "execution_count": 1,
      "metadata": {
        "id": "ztnvx1S3D81U"
      },
      "outputs": [],
      "source": [
        "import os\n",
        "import glob\n",
        "import pandas as pd"
      ]
    },
    {
      "cell_type": "code",
      "source": [
        "from google.colab import drive\n",
        "drive.mount('/content/drive')"
      ],
      "metadata": {
        "colab": {
          "base_uri": "https://localhost:8080/"
        },
        "id": "nBlSk0jlEAI2",
        "outputId": "e83a6aea-344d-436d-fa46-c2a373735013"
      },
      "execution_count": 2,
      "outputs": [
        {
          "output_type": "stream",
          "name": "stdout",
          "text": [
            "Mounted at /content/drive\n"
          ]
        }
      ]
    },
    {
      "cell_type": "code",
      "source": [
        "train_resized_dir = '/content/drive/MyDrive/train_hackathon/resized_images'\n",
        "train_dir =  '/content/drive/MyDrive/train_hackathon/images'\n",
        "\n",
        "test_resized_dir =  '/content/drive/MyDrive/test_hackathon/resized_images'\n",
        "test_dir =  '/content/drive/MyDrive/test_hackathon/images'"
      ],
      "metadata": {
        "id": "S65d0ey_EFHy"
      },
      "execution_count": 3,
      "outputs": []
    },
    {
      "cell_type": "code",
      "source": [
        "def count_files_in_directory(directory_path):\n",
        "    file_count = 0\n",
        "    # Walk through the directory and count files\n",
        "    for foldername, subfolders, filenames in os.walk(directory_path):\n",
        "        file_count += len(filenames)\n",
        "\n",
        "    return file_count"
      ],
      "metadata": {
        "id": "_ore-vozEFPe"
      },
      "execution_count": 4,
      "outputs": []
    },
    {
      "cell_type": "code",
      "source": [
        "def basenames(folder_dir):\n",
        "  files = glob.glob(os.path.join(folder_dir, '*.jpg'))\n",
        "  basenames=[]\n",
        "  for image_file in files:\n",
        "    basenames.append(os.path.basename(image_file))\n",
        "  return basenames"
      ],
      "metadata": {
        "id": "gKv7eWXmF_Pb"
      },
      "execution_count": 5,
      "outputs": []
    },
    {
      "cell_type": "code",
      "source": [
        "count_files_in_directory(train_dir), count_files_in_directory(train_resized_dir)"
      ],
      "metadata": {
        "colab": {
          "base_uri": "https://localhost:8080/"
        },
        "id": "eiMVDebKEOGp",
        "outputId": "c74bc7e7-867d-4dd3-c37e-71e5e9712316"
      },
      "execution_count": 6,
      "outputs": [
        {
          "output_type": "execute_result",
          "data": {
            "text/plain": [
              "(8079, 8079)"
            ]
          },
          "metadata": {},
          "execution_count": 6
        }
      ]
    },
    {
      "cell_type": "code",
      "source": [
        "count_files_in_directory(test_resized_dir), count_files_in_directory(test_dir)"
      ],
      "metadata": {
        "colab": {
          "base_uri": "https://localhost:8080/"
        },
        "id": "3FHwZ7g6Em6L",
        "outputId": "49ea7b5d-ce1c-46f8-f709-140fbf3ff8a4"
      },
      "execution_count": 7,
      "outputs": [
        {
          "output_type": "execute_result",
          "data": {
            "text/plain": [
              "(3462, 3462)"
            ]
          },
          "metadata": {},
          "execution_count": 7
        }
      ]
    },
    {
      "cell_type": "code",
      "source": [
        "training_df = pd.read_csv(\"drive/MyDrive/train_hackathon/train.csv\")\n",
        "test_df= pd.read_csv(\"drive/MyDrive/test_hackathon/test.csv\")"
      ],
      "metadata": {
        "id": "KgMWNHLBEpNJ"
      },
      "execution_count": 8,
      "outputs": []
    },
    {
      "cell_type": "code",
      "source": [
        "train_resized_basnames = basenames(train_resized_dir)"
      ],
      "metadata": {
        "id": "rTMBiWJVFJC_"
      },
      "execution_count": 9,
      "outputs": []
    },
    {
      "cell_type": "code",
      "source": [
        "test_resized_basenames = basenames(test_resized_dir)"
      ],
      "metadata": {
        "id": "Z2kn52gpGqJQ"
      },
      "execution_count": 11,
      "outputs": []
    },
    {
      "cell_type": "code",
      "source": [
        "set(basenames(test_dir))== set(test_df[\"filename\"].values)"
      ],
      "metadata": {
        "colab": {
          "base_uri": "https://localhost:8080/"
        },
        "id": "pZUYq9uFKq_z",
        "outputId": "36200be8-654d-4103-d722-80d091a83379"
      },
      "execution_count": 15,
      "outputs": [
        {
          "output_type": "execute_result",
          "data": {
            "text/plain": [
              "True"
            ]
          },
          "metadata": {},
          "execution_count": 15
        }
      ]
    },
    {
      "cell_type": "code",
      "source": [
        "set(basenames(test_resized_dir))== set(test_df[\"filename\"].values)"
      ],
      "metadata": {
        "colab": {
          "base_uri": "https://localhost:8080/"
        },
        "id": "lrgTizYULZdJ",
        "outputId": "fae9097a-9442-4e04-e7da-110994c84e40"
      },
      "execution_count": 16,
      "outputs": [
        {
          "output_type": "execute_result",
          "data": {
            "text/plain": [
              "True"
            ]
          },
          "metadata": {},
          "execution_count": 16
        }
      ]
    },
    {
      "cell_type": "code",
      "source": [
        "set(basenames(train_dir))== set(training_df[\"filename\"].values)"
      ],
      "metadata": {
        "colab": {
          "base_uri": "https://localhost:8080/"
        },
        "id": "DDQSaEeuUjoE",
        "outputId": "b6ff20d2-a641-48b0-aa68-e220b3a40855"
      },
      "execution_count": 17,
      "outputs": [
        {
          "output_type": "execute_result",
          "data": {
            "text/plain": [
              "True"
            ]
          },
          "metadata": {},
          "execution_count": 17
        }
      ]
    },
    {
      "cell_type": "code",
      "source": [
        "set(basenames(train_resized_dir))== set(training_df[\"filename\"].values)"
      ],
      "metadata": {
        "colab": {
          "base_uri": "https://localhost:8080/"
        },
        "id": "c1C_K9q4MSid",
        "outputId": "f51c768d-5a17-4ef3-9fe6-3d3175cf5f5a"
      },
      "execution_count": 18,
      "outputs": [
        {
          "output_type": "execute_result",
          "data": {
            "text/plain": [
              "True"
            ]
          },
          "metadata": {},
          "execution_count": 18
        }
      ]
    },
    {
      "cell_type": "code",
      "source": [],
      "metadata": {
        "id": "Pgac-ZFVMVi2"
      },
      "execution_count": null,
      "outputs": []
    }
  ]
}