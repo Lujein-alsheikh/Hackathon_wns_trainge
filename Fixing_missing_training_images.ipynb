{
  "nbformat": 4,
  "nbformat_minor": 0,
  "metadata": {
    "colab": {
      "provenance": [],
      "authorship_tag": "ABX9TyMtsxfjxTJgKsKDaCXi6Rwh",
      "include_colab_link": true
    },
    "kernelspec": {
      "name": "python3",
      "display_name": "Python 3"
    },
    "language_info": {
      "name": "python"
    }
  },
  "cells": [
    {
      "cell_type": "markdown",
      "metadata": {
        "id": "view-in-github",
        "colab_type": "text"
      },
      "source": [
        "<a href=\"https://colab.research.google.com/github/Lujein-alsheikh/Hackathon_wns_trainge/blob/main/Fixing_missing_training_images.ipynb\" target=\"_parent\"><img src=\"https://colab.research.google.com/assets/colab-badge.svg\" alt=\"Open In Colab\"/></a>"
      ]
    },
    {
      "cell_type": "code",
      "execution_count": null,
      "metadata": {
        "id": "ztnvx1S3D81U"
      },
      "outputs": [],
      "source": [
        "import os\n",
        "import glob\n",
        "import pandas as pd"
      ]
    },
    {
      "cell_type": "code",
      "source": [
        "from google.colab import drive\n",
        "drive.mount('/content/drive')"
      ],
      "metadata": {
        "colab": {
          "base_uri": "https://localhost:8080/"
        },
        "id": "nBlSk0jlEAI2",
        "outputId": "309e0c11-b42c-4e9d-f668-036347f898fc"
      },
      "execution_count": null,
      "outputs": [
        {
          "output_type": "stream",
          "name": "stdout",
          "text": [
            "Mounted at /content/drive\n"
          ]
        }
      ]
    },
    {
      "cell_type": "code",
      "source": [
        "train_resized_dir = '/content/drive/MyDrive/train_hackathon/resized_images'\n",
        "train_dir =  '/content/drive/MyDrive/train_hackathon/images'\n",
        "\n",
        "test_resized_dir =  '/content/drive/MyDrive/test_hackathon/resized_images'\n",
        "test_dir =  '/content/drive/MyDrive/test_hackathon/images'"
      ],
      "metadata": {
        "id": "S65d0ey_EFHy"
      },
      "execution_count": null,
      "outputs": []
    },
    {
      "cell_type": "code",
      "source": [
        "def count_files_in_directory(directory_path):\n",
        "    file_count = 0\n",
        "    # Walk through the directory and count files\n",
        "    for foldername, subfolders, filenames in os.walk(directory_path):\n",
        "        file_count += len(filenames)\n",
        "\n",
        "    return file_count"
      ],
      "metadata": {
        "id": "_ore-vozEFPe"
      },
      "execution_count": null,
      "outputs": []
    },
    {
      "cell_type": "code",
      "source": [
        "count_files_in_directory(train_resized_dir)"
      ],
      "metadata": {
        "colab": {
          "base_uri": "https://localhost:8080/"
        },
        "id": "eiMVDebKEOGp",
        "outputId": "24fbab91-398f-476d-eb72-26a255296a64"
      },
      "execution_count": null,
      "outputs": [
        {
          "output_type": "execute_result",
          "data": {
            "text/plain": [
              "8079"
            ]
          },
          "metadata": {},
          "execution_count": 6
        }
      ]
    },
    {
      "cell_type": "code",
      "source": [
        "count_files_in_directory(train_dir)"
      ],
      "metadata": {
        "colab": {
          "base_uri": "https://localhost:8080/"
        },
        "id": "dXoRYe9RERNl",
        "outputId": "689e4cc3-2917-487f-defe-312155f53111"
      },
      "execution_count": null,
      "outputs": [
        {
          "output_type": "execute_result",
          "data": {
            "text/plain": [
              "8085"
            ]
          },
          "metadata": {},
          "execution_count": 8
        }
      ]
    },
    {
      "cell_type": "code",
      "source": [
        "count_files_in_directory(test_resized_dir), count_files_in_directory(test_dir)"
      ],
      "metadata": {
        "colab": {
          "base_uri": "https://localhost:8080/"
        },
        "id": "3FHwZ7g6Em6L",
        "outputId": "bd3c7b13-0590-41c7-e153-abb0247ccfa6"
      },
      "execution_count": null,
      "outputs": [
        {
          "output_type": "execute_result",
          "data": {
            "text/plain": [
              "(3462, 3458)"
            ]
          },
          "metadata": {},
          "execution_count": 9
        }
      ]
    },
    {
      "cell_type": "code",
      "source": [
        "training_df = pd.read_csv(\"drive/MyDrive/train_hackathon/train.csv\")\n",
        "test_df= pd.read_csv(\"drive/MyDrive/test_hackathon/test.csv\")"
      ],
      "metadata": {
        "id": "KgMWNHLBEpNJ"
      },
      "execution_count": null,
      "outputs": []
    },
    {
      "cell_type": "code",
      "source": [
        "def basenames(folder_dir):\n",
        "  files = glob.glob(os.path.join(folder_dir, '*.jpg'))\n",
        "  basenames=[]\n",
        "  for image_file in files:\n",
        "    basenames.append(os.path.basename(image_file))\n",
        "  return basenames"
      ],
      "metadata": {
        "id": "gKv7eWXmF_Pb"
      },
      "execution_count": null,
      "outputs": []
    },
    {
      "cell_type": "code",
      "source": [
        "train_resized_basnames = basenames(train_resized_dir)"
      ],
      "metadata": {
        "id": "rTMBiWJVFJC_"
      },
      "execution_count": null,
      "outputs": []
    },
    {
      "cell_type": "code",
      "source": [
        "s1= set(training_df[\"filename\"].values)\n",
        "s2 = set(train_resized_basnames)\n",
        "s1 == s2"
      ],
      "metadata": {
        "colab": {
          "base_uri": "https://localhost:8080/"
        },
        "id": "BwCBd7QGGhDg",
        "outputId": "226bce96-eed8-47b8-98b0-68e4f9186381"
      },
      "execution_count": null,
      "outputs": [
        {
          "output_type": "execute_result",
          "data": {
            "text/plain": [
              "True"
            ]
          },
          "metadata": {},
          "execution_count": 19
        }
      ]
    },
    {
      "cell_type": "code",
      "source": [
        "test_resized_basenames = basenames(test_resized_dir)"
      ],
      "metadata": {
        "id": "Z2kn52gpGqJQ"
      },
      "execution_count": null,
      "outputs": []
    },
    {
      "cell_type": "code",
      "source": [
        "d1= set(test_df[\"filename\"].values)\n",
        "d2= set(test_resized_basenames)\n",
        "d1==d2"
      ],
      "metadata": {
        "colab": {
          "base_uri": "https://localhost:8080/"
        },
        "id": "I81HaKGRG0pm",
        "outputId": "5f8179db-3839-42a0-e66e-17d6189eb729"
      },
      "execution_count": null,
      "outputs": [
        {
          "output_type": "execute_result",
          "data": {
            "text/plain": [
              "True"
            ]
          },
          "metadata": {},
          "execution_count": 21
        }
      ]
    },
    {
      "cell_type": "code",
      "source": [
        "train_basenames = basenames(train_dir)"
      ],
      "metadata": {
        "id": "jf-wMxxMG7si"
      },
      "execution_count": null,
      "outputs": []
    },
    {
      "cell_type": "code",
      "source": [
        "c1= s1\n",
        "c2 = set(train_basenames)\n",
        "c1 == c2"
      ],
      "metadata": {
        "colab": {
          "base_uri": "https://localhost:8080/"
        },
        "id": "9ak_8UcjG_8I",
        "outputId": "1b05d05e-f1eb-47ba-d997-116c2cbc2f3a"
      },
      "execution_count": null,
      "outputs": [
        {
          "output_type": "execute_result",
          "data": {
            "text/plain": [
              "False"
            ]
          },
          "metadata": {},
          "execution_count": 24
        }
      ]
    },
    {
      "cell_type": "code",
      "source": [
        "len(c2)"
      ],
      "metadata": {
        "colab": {
          "base_uri": "https://localhost:8080/"
        },
        "id": "8Xf8FUeeHFp4",
        "outputId": "f9193f2d-9955-4cb2-cb4b-6924bcc44bbf"
      },
      "execution_count": null,
      "outputs": [
        {
          "output_type": "execute_result",
          "data": {
            "text/plain": [
              "8085"
            ]
          },
          "metadata": {},
          "execution_count": 25
        }
      ]
    },
    {
      "cell_type": "code",
      "source": [
        "c2-c1"
      ],
      "metadata": {
        "colab": {
          "base_uri": "https://localhost:8080/"
        },
        "id": "moFjOMJaHL2g",
        "outputId": "1b1a9f0d-de6b-4626-d5ff-621f91ba88e1"
      },
      "execution_count": null,
      "outputs": [
        {
          "output_type": "execute_result",
          "data": {
            "text/plain": [
              "{'1134 (1).jpg',\n",
              " '2489 (1).jpg',\n",
              " '25 (1).jpg',\n",
              " '2569 (1).jpg',\n",
              " '2779 (1).jpg',\n",
              " '3355 (1).jpg',\n",
              " '4447 (1).jpg',\n",
              " '538 (1).jpg',\n",
              " '6854 (1).jpg',\n",
              " '803 (1).jpg'}"
            ]
          },
          "metadata": {},
          "execution_count": 26
        }
      ]
    },
    {
      "cell_type": "code",
      "source": [
        "img_to_delete = list(c2-c1)\n",
        "for image_name in img_to_delete:\n",
        "    image_path = os.path.join(train_dir, image_name)\n",
        "    if os.path.exists(image_path):\n",
        "        os.remove(image_path)\n",
        "        print(f\"Deleted: {image_name}\")\n",
        "    else:\n",
        "        print(f\"File not found: {image_name}\")"
      ],
      "metadata": {
        "colab": {
          "base_uri": "https://localhost:8080/"
        },
        "id": "5SJMliwnHRRI",
        "outputId": "3af7d987-bde4-4554-e3d4-b3d5cb15a85d"
      },
      "execution_count": null,
      "outputs": [
        {
          "output_type": "stream",
          "name": "stdout",
          "text": [
            "Deleted: 803 (1).jpg\n",
            "Deleted: 6854 (1).jpg\n",
            "Deleted: 2489 (1).jpg\n",
            "Deleted: 25 (1).jpg\n",
            "Deleted: 2779 (1).jpg\n",
            "Deleted: 538 (1).jpg\n",
            "Deleted: 2569 (1).jpg\n",
            "Deleted: 1134 (1).jpg\n",
            "Deleted: 4447 (1).jpg\n",
            "Deleted: 3355 (1).jpg\n"
          ]
        }
      ]
    },
    {
      "cell_type": "code",
      "source": [
        "new_train_basenames = basenames(train_dir)"
      ],
      "metadata": {
        "id": "ZkKlLA59HgoN"
      },
      "execution_count": null,
      "outputs": []
    },
    {
      "cell_type": "code",
      "source": [
        "len(new_train_basenames)"
      ],
      "metadata": {
        "colab": {
          "base_uri": "https://localhost:8080/"
        },
        "id": "OacPKYIxHmvg",
        "outputId": "383edd17-cccf-4938-c9b5-706d5ca35282"
      },
      "execution_count": null,
      "outputs": [
        {
          "output_type": "execute_result",
          "data": {
            "text/plain": [
              "8075"
            ]
          },
          "metadata": {},
          "execution_count": 32
        }
      ]
    },
    {
      "cell_type": "code",
      "source": [
        "set(training_df[\"filename\"].values) - set(new_train_basenames)"
      ],
      "metadata": {
        "colab": {
          "base_uri": "https://localhost:8080/"
        },
        "id": "n9POFYj_HzAj",
        "outputId": "a46bdc24-7fe7-4de3-de4d-73263ae7b54a"
      },
      "execution_count": null,
      "outputs": [
        {
          "output_type": "execute_result",
          "data": {
            "text/plain": [
              "{'190.jpg', '6742.jpg', '6992.jpg', '7429.jpg'}"
            ]
          },
          "metadata": {},
          "execution_count": 34
        }
      ]
    },
    {
      "cell_type": "code",
      "source": [
        "set(test_df[\"filename\"].values) - set(basenames(test_dir))"
      ],
      "metadata": {
        "colab": {
          "base_uri": "https://localhost:8080/"
        },
        "id": "4IdbBQFKIjz0",
        "outputId": "32eaaeaf-27b2-41a0-916b-d23c0e53a07a"
      },
      "execution_count": null,
      "outputs": [
        {
          "output_type": "execute_result",
          "data": {
            "text/plain": [
              "{'10031.jpg', '9264.jpg', '9458.jpg', '9855.jpg'}"
            ]
          },
          "metadata": {},
          "execution_count": 35
        }
      ]
    },
    {
      "cell_type": "code",
      "source": [
        "os.path.exists('/content/drive/MyDrive/test_hackathon/images/9855.jpg')"
      ],
      "metadata": {
        "colab": {
          "base_uri": "https://localhost:8080/"
        },
        "id": "jc_fveDwI194",
        "outputId": "e5fca2b1-62d4-4927-e518-5a4512758120"
      },
      "execution_count": null,
      "outputs": [
        {
          "output_type": "execute_result",
          "data": {
            "text/plain": [
              "True"
            ]
          },
          "metadata": {},
          "execution_count": 47
        }
      ]
    },
    {
      "cell_type": "code",
      "source": [
        "set(basenames(test_dir))== set(test_df[\"filename\"].values)"
      ],
      "metadata": {
        "colab": {
          "base_uri": "https://localhost:8080/"
        },
        "id": "pZUYq9uFKq_z",
        "outputId": "1ce42631-a238-4e55-837d-e6e0187b4775"
      },
      "execution_count": null,
      "outputs": [
        {
          "output_type": "execute_result",
          "data": {
            "text/plain": [
              "True"
            ]
          },
          "metadata": {},
          "execution_count": 51
        }
      ]
    },
    {
      "cell_type": "code",
      "source": [
        "set(basenames(test_resized_dir))== set(test_df[\"filename\"].values)"
      ],
      "metadata": {
        "colab": {
          "base_uri": "https://localhost:8080/"
        },
        "id": "lrgTizYULZdJ",
        "outputId": "d3e20ea4-b287-450b-d5e7-331d0bf70898"
      },
      "execution_count": null,
      "outputs": [
        {
          "output_type": "execute_result",
          "data": {
            "text/plain": [
              "True"
            ]
          },
          "metadata": {},
          "execution_count": 52
        }
      ]
    },
    {
      "cell_type": "code",
      "source": [
        "set(basenames(train_resized_dir))== set(training_df[\"filename\"].values)"
      ],
      "metadata": {
        "colab": {
          "base_uri": "https://localhost:8080/"
        },
        "id": "c1C_K9q4MSid",
        "outputId": "7b4bad24-49c6-4564-ba51-2dafafbd75d7"
      },
      "execution_count": null,
      "outputs": [
        {
          "output_type": "execute_result",
          "data": {
            "text/plain": [
              "True"
            ]
          },
          "metadata": {},
          "execution_count": 54
        }
      ]
    },
    {
      "cell_type": "code",
      "source": [],
      "metadata": {
        "id": "Pgac-ZFVMVi2"
      },
      "execution_count": null,
      "outputs": []
    }
  ]
}