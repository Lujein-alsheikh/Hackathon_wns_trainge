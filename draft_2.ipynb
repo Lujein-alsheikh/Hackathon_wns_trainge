{
 "cells": [
  {
   "cell_type": "code",
   "execution_count": 1,
   "id": "e78fedd1-e85a-442f-bfb7-7da69c0537ea",
   "metadata": {
    "tags": []
   },
   "outputs": [],
   "source": [
    "import numpy as np\n",
    "import pandas as pd\n",
    "from glob import glob\n",
    "import matplotlib.pyplot as plt\n",
    "%matplotlib inline\n",
    "\n",
    "import PIL\n",
    "from PIL import Image\n",
    "\n",
    "import os"
   ]
  },
  {
   "cell_type": "code",
   "execution_count": 3,
   "id": "73833367-a1c2-488b-9ebd-e0500fdaab7d",
   "metadata": {
    "tags": []
   },
   "outputs": [],
   "source": [
    "training_df = pd.read_csv(\"./train_hackathon/train.csv\")\n",
    "test_df = pd.read_csv(\"./test_hackathon/test.csv\")"
   ]
  },
  {
   "cell_type": "code",
   "execution_count": 3,
   "id": "36aa253c-680f-420e-934d-258f64182856",
   "metadata": {
    "tags": []
   },
   "outputs": [],
   "source": [
    "resized_test_images_path = \"./test_hackathon/resized_images/\"\n",
    "if not os.path.exists(resized_test_images_path):\n",
    "    os.makedirs(resized_test_images_path)"
   ]
  },
  {
   "cell_type": "code",
   "execution_count": 6,
   "id": "c44e55ef-c7ea-4267-8556-c5f12bdc3a3a",
   "metadata": {
    "tags": []
   },
   "outputs": [],
   "source": [
    "test_imgs_folder_path = \"./test_hackathon/images/\"\n",
    "smallest_size=(800,600)\n",
    "\n",
    "for img_name in test_df[\"filename\"]:\n",
    "      original_image_path = test_imgs_folder_path + img_name\n",
    "      resized_image = Image.open(original_image_path).resize(smallest_size)\n",
    "      resized_image_path = resized_test_images_path + img_name\n",
    "      resized_image.save(resized_image_path)\n",
    "    \n",
    "# started at 18:06    "
   ]
  },
  {
   "cell_type": "code",
   "execution_count": 5,
   "id": "7931d94f-d8f3-40ef-a60d-dda6d6830868",
   "metadata": {
    "tags": []
   },
   "outputs": [],
   "source": [
    "# Check that resized images all have size 800x600\n",
    "def different_size_images(images_folder, df, size_x, size_y):\n",
    "    different_size_images= []\n",
    "    for img_name in df[\"filename\"]:\n",
    "        img_path = os.path.join(images_folder, img_name)\n",
    "        with Image.open(img_path) as img:\n",
    "            if img.size != (size_x, size_y):\n",
    "                different_size_images.append(img_name)\n",
    "    return different_size_images"
   ]
  },
  {
   "cell_type": "code",
   "execution_count": 6,
   "id": "19223603-15dc-4af9-a7ae-a2c77bb83787",
   "metadata": {},
   "outputs": [
    {
     "data": {
      "text/plain": [
       "[]"
      ]
     },
     "execution_count": 6,
     "metadata": {},
     "output_type": "execute_result"
    }
   ],
   "source": [
    "different_size_images(\"./test_hackathon/resized_images/\", test_df, 800, 600)"
   ]
  },
  {
   "cell_type": "code",
   "execution_count": 8,
   "id": "a4d49c54-5d50-4874-8810-4bad300e47cd",
   "metadata": {
    "tags": []
   },
   "outputs": [],
   "source": [
    "# this doesn't work because I didn't save the resized images locally\n",
    "# different_size_images(\"./train_hackathon/resized_images/\", training_df, 800, 600)"
   ]
  },
  {
   "cell_type": "markdown",
   "id": "ec0969fb-6520-4420-9a58-4d10a1e49b53",
   "metadata": {},
   "source": [
    "Checking how much time does it take to create an array of the training images"
   ]
  },
  {
   "cell_type": "code",
   "execution_count": 15,
   "id": "fc999f92-4972-449c-94f5-360f5112fed1",
   "metadata": {
    "tags": []
   },
   "outputs": [],
   "source": [
    "%timeit\n",
    "test_resized_dir = './test_hackathon/resized_images/'\n",
    "X = []\n",
    "for img_name in test_df.filename:\n",
    "    img = plt.imread(test_resized_dir + img_name)\n",
    "    X.append(img)\n",
    "    \n",
    "X=np.array(X)\n",
    "y = training_df.label.values"
   ]
  },
  {
   "cell_type": "code",
   "execution_count": 14,
   "id": "b0703f74-e161-4809-95a9-6f2703dd93bb",
   "metadata": {
    "tags": []
   },
   "outputs": [
    {
     "data": {
      "text/plain": [
       "(3462, 600, 800, 3)"
      ]
     },
     "execution_count": 14,
     "metadata": {},
     "output_type": "execute_result"
    }
   ],
   "source": [
    "X.shape"
   ]
  },
  {
   "cell_type": "code",
   "execution_count": null,
   "id": "7b8fa855-bca5-48bd-ba27-991d0e0ef7cb",
   "metadata": {},
   "outputs": [],
   "source": []
  }
 ],
 "metadata": {
  "kernelspec": {
   "display_name": "Python 3 (ipykernel)",
   "language": "python",
   "name": "python3"
  },
  "language_info": {
   "codemirror_mode": {
    "name": "ipython",
    "version": 3
   },
   "file_extension": ".py",
   "mimetype": "text/x-python",
   "name": "python",
   "nbconvert_exporter": "python",
   "pygments_lexer": "ipython3",
   "version": "3.11.5"
  }
 },
 "nbformat": 4,
 "nbformat_minor": 5
}
