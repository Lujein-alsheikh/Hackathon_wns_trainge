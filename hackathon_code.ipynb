{
  "nbformat": 4,
  "nbformat_minor": 0,
  "metadata": {
    "colab": {
      "provenance": [],
      "collapsed_sections": [
        "sVrynQA2eenK"
      ],
      "gpuType": "T4"
    },
    "kernelspec": {
      "name": "python3",
      "display_name": "Python 3"
    },
    "language_info": {
      "name": "python"
    },
    "accelerator": "GPU"
  },
  "cells": [
    {
      "cell_type": "markdown",
      "source": [
        "### Importing necessary libraries"
      ],
      "metadata": {
        "id": "KO1q57LBasF-"
      }
    },
    {
      "cell_type": "code",
      "execution_count": 3,
      "metadata": {
        "id": "ZV5yIWADvkDA"
      },
      "outputs": [],
      "source": [
        "import numpy as np\n",
        "import pandas as pd\n",
        "import matplotlib.pyplot as plt\n",
        "import random\n",
        "\n",
        "import PIL\n",
        "from PIL import Image\n",
        "\n",
        "# import seaborn as sns"
      ]
    },
    {
      "cell_type": "code",
      "source": [
        "import tensorflow as tf\n",
        "# from tensorflow.keras.preprocessing.image import ImageDataGenerator\n",
        "from tensorflow import keras\n",
        "from tensorflow.keras import layers\n",
        "from keras.callbacks import EarlyStopping"
      ],
      "metadata": {
        "id": "YmLVymTY-cnt"
      },
      "execution_count": 4,
      "outputs": []
    },
    {
      "cell_type": "code",
      "source": [
        "from keras.layers import MaxPool2D, Conv2D, Flatten, Dense, InputLayer, BatchNormalization, Dropout\n",
        "from keras.models import Sequential\n",
        "from keras.optimizers import Adam"
      ],
      "metadata": {
        "id": "9_812Aiiev-G"
      },
      "execution_count": 5,
      "outputs": []
    },
    {
      "cell_type": "code",
      "source": [
        "from sklearn.model_selection import train_test_split\n",
        "from sklearn.metrics import classification_report, f1_score"
      ],
      "metadata": {
        "id": "ssnaX07Z9Xnv"
      },
      "execution_count": 6,
      "outputs": []
    },
    {
      "cell_type": "code",
      "source": [
        "from google.colab import drive\n",
        "drive.mount('/content/drive')"
      ],
      "metadata": {
        "colab": {
          "base_uri": "https://localhost:8080/"
        },
        "id": "XNRHtF4cvrU0",
        "outputId": "1db06e22-3150-411e-c6c8-edb3bc480b34"
      },
      "execution_count": 7,
      "outputs": [
        {
          "output_type": "stream",
          "name": "stdout",
          "text": [
            "Drive already mounted at /content/drive; to attempt to forcibly remount, call drive.mount(\"/content/drive\", force_remount=True).\n"
          ]
        }
      ]
    },
    {
      "cell_type": "code",
      "source": [
        "original_training_df = pd.read_csv(\"drive/MyDrive/train_hackathon/train.csv\")\n",
        "original_test_df= pd.read_csv(\"drive/MyDrive/test_hackathon/test.csv\")"
      ],
      "metadata": {
        "id": "2ntmrqBivvnq"
      },
      "execution_count": 8,
      "outputs": []
    },
    {
      "cell_type": "code",
      "source": [
        "original_training_df.head()"
      ],
      "metadata": {
        "colab": {
          "base_uri": "https://localhost:8080/",
          "height": 206
        },
        "id": "4wj2PQGP9jbT",
        "outputId": "1493fedc-9683-471a-948c-c009f57cef30"
      },
      "execution_count": 9,
      "outputs": [
        {
          "output_type": "execute_result",
          "data": {
            "text/plain": [
              "   image_id filename  label\n",
              "0         1    1.jpg      0\n",
              "1         2    2.jpg      0\n",
              "2         3    3.jpg      0\n",
              "3         4    4.jpg      0\n",
              "4         5    5.jpg      0"
            ],
            "text/html": [
              "\n",
              "  <div id=\"df-f829fd9a-3d54-4d0f-b401-15b742e70498\" class=\"colab-df-container\">\n",
              "    <div>\n",
              "<style scoped>\n",
              "    .dataframe tbody tr th:only-of-type {\n",
              "        vertical-align: middle;\n",
              "    }\n",
              "\n",
              "    .dataframe tbody tr th {\n",
              "        vertical-align: top;\n",
              "    }\n",
              "\n",
              "    .dataframe thead th {\n",
              "        text-align: right;\n",
              "    }\n",
              "</style>\n",
              "<table border=\"1\" class=\"dataframe\">\n",
              "  <thead>\n",
              "    <tr style=\"text-align: right;\">\n",
              "      <th></th>\n",
              "      <th>image_id</th>\n",
              "      <th>filename</th>\n",
              "      <th>label</th>\n",
              "    </tr>\n",
              "  </thead>\n",
              "  <tbody>\n",
              "    <tr>\n",
              "      <th>0</th>\n",
              "      <td>1</td>\n",
              "      <td>1.jpg</td>\n",
              "      <td>0</td>\n",
              "    </tr>\n",
              "    <tr>\n",
              "      <th>1</th>\n",
              "      <td>2</td>\n",
              "      <td>2.jpg</td>\n",
              "      <td>0</td>\n",
              "    </tr>\n",
              "    <tr>\n",
              "      <th>2</th>\n",
              "      <td>3</td>\n",
              "      <td>3.jpg</td>\n",
              "      <td>0</td>\n",
              "    </tr>\n",
              "    <tr>\n",
              "      <th>3</th>\n",
              "      <td>4</td>\n",
              "      <td>4.jpg</td>\n",
              "      <td>0</td>\n",
              "    </tr>\n",
              "    <tr>\n",
              "      <th>4</th>\n",
              "      <td>5</td>\n",
              "      <td>5.jpg</td>\n",
              "      <td>0</td>\n",
              "    </tr>\n",
              "  </tbody>\n",
              "</table>\n",
              "</div>\n",
              "    <div class=\"colab-df-buttons\">\n",
              "\n",
              "  <div class=\"colab-df-container\">\n",
              "    <button class=\"colab-df-convert\" onclick=\"convertToInteractive('df-f829fd9a-3d54-4d0f-b401-15b742e70498')\"\n",
              "            title=\"Convert this dataframe to an interactive table.\"\n",
              "            style=\"display:none;\">\n",
              "\n",
              "  <svg xmlns=\"http://www.w3.org/2000/svg\" height=\"24px\" viewBox=\"0 -960 960 960\">\n",
              "    <path d=\"M120-120v-720h720v720H120Zm60-500h600v-160H180v160Zm220 220h160v-160H400v160Zm0 220h160v-160H400v160ZM180-400h160v-160H180v160Zm440 0h160v-160H620v160ZM180-180h160v-160H180v160Zm440 0h160v-160H620v160Z\"/>\n",
              "  </svg>\n",
              "    </button>\n",
              "\n",
              "  <style>\n",
              "    .colab-df-container {\n",
              "      display:flex;\n",
              "      gap: 12px;\n",
              "    }\n",
              "\n",
              "    .colab-df-convert {\n",
              "      background-color: #E8F0FE;\n",
              "      border: none;\n",
              "      border-radius: 50%;\n",
              "      cursor: pointer;\n",
              "      display: none;\n",
              "      fill: #1967D2;\n",
              "      height: 32px;\n",
              "      padding: 0 0 0 0;\n",
              "      width: 32px;\n",
              "    }\n",
              "\n",
              "    .colab-df-convert:hover {\n",
              "      background-color: #E2EBFA;\n",
              "      box-shadow: 0px 1px 2px rgba(60, 64, 67, 0.3), 0px 1px 3px 1px rgba(60, 64, 67, 0.15);\n",
              "      fill: #174EA6;\n",
              "    }\n",
              "\n",
              "    .colab-df-buttons div {\n",
              "      margin-bottom: 4px;\n",
              "    }\n",
              "\n",
              "    [theme=dark] .colab-df-convert {\n",
              "      background-color: #3B4455;\n",
              "      fill: #D2E3FC;\n",
              "    }\n",
              "\n",
              "    [theme=dark] .colab-df-convert:hover {\n",
              "      background-color: #434B5C;\n",
              "      box-shadow: 0px 1px 3px 1px rgba(0, 0, 0, 0.15);\n",
              "      filter: drop-shadow(0px 1px 2px rgba(0, 0, 0, 0.3));\n",
              "      fill: #FFFFFF;\n",
              "    }\n",
              "  </style>\n",
              "\n",
              "    <script>\n",
              "      const buttonEl =\n",
              "        document.querySelector('#df-f829fd9a-3d54-4d0f-b401-15b742e70498 button.colab-df-convert');\n",
              "      buttonEl.style.display =\n",
              "        google.colab.kernel.accessAllowed ? 'block' : 'none';\n",
              "\n",
              "      async function convertToInteractive(key) {\n",
              "        const element = document.querySelector('#df-f829fd9a-3d54-4d0f-b401-15b742e70498');\n",
              "        const dataTable =\n",
              "          await google.colab.kernel.invokeFunction('convertToInteractive',\n",
              "                                                    [key], {});\n",
              "        if (!dataTable) return;\n",
              "\n",
              "        const docLinkHtml = 'Like what you see? Visit the ' +\n",
              "          '<a target=\"_blank\" href=https://colab.research.google.com/notebooks/data_table.ipynb>data table notebook</a>'\n",
              "          + ' to learn more about interactive tables.';\n",
              "        element.innerHTML = '';\n",
              "        dataTable['output_type'] = 'display_data';\n",
              "        await google.colab.output.renderOutput(dataTable, element);\n",
              "        const docLink = document.createElement('div');\n",
              "        docLink.innerHTML = docLinkHtml;\n",
              "        element.appendChild(docLink);\n",
              "      }\n",
              "    </script>\n",
              "  </div>\n",
              "\n",
              "\n",
              "<div id=\"df-56dc5a65-e342-44e6-8f42-927ad5ee4573\">\n",
              "  <button class=\"colab-df-quickchart\" onclick=\"quickchart('df-56dc5a65-e342-44e6-8f42-927ad5ee4573')\"\n",
              "            title=\"Suggest charts\"\n",
              "            style=\"display:none;\">\n",
              "\n",
              "<svg xmlns=\"http://www.w3.org/2000/svg\" height=\"24px\"viewBox=\"0 0 24 24\"\n",
              "     width=\"24px\">\n",
              "    <g>\n",
              "        <path d=\"M19 3H5c-1.1 0-2 .9-2 2v14c0 1.1.9 2 2 2h14c1.1 0 2-.9 2-2V5c0-1.1-.9-2-2-2zM9 17H7v-7h2v7zm4 0h-2V7h2v10zm4 0h-2v-4h2v4z\"/>\n",
              "    </g>\n",
              "</svg>\n",
              "  </button>\n",
              "\n",
              "<style>\n",
              "  .colab-df-quickchart {\n",
              "      --bg-color: #E8F0FE;\n",
              "      --fill-color: #1967D2;\n",
              "      --hover-bg-color: #E2EBFA;\n",
              "      --hover-fill-color: #174EA6;\n",
              "      --disabled-fill-color: #AAA;\n",
              "      --disabled-bg-color: #DDD;\n",
              "  }\n",
              "\n",
              "  [theme=dark] .colab-df-quickchart {\n",
              "      --bg-color: #3B4455;\n",
              "      --fill-color: #D2E3FC;\n",
              "      --hover-bg-color: #434B5C;\n",
              "      --hover-fill-color: #FFFFFF;\n",
              "      --disabled-bg-color: #3B4455;\n",
              "      --disabled-fill-color: #666;\n",
              "  }\n",
              "\n",
              "  .colab-df-quickchart {\n",
              "    background-color: var(--bg-color);\n",
              "    border: none;\n",
              "    border-radius: 50%;\n",
              "    cursor: pointer;\n",
              "    display: none;\n",
              "    fill: var(--fill-color);\n",
              "    height: 32px;\n",
              "    padding: 0;\n",
              "    width: 32px;\n",
              "  }\n",
              "\n",
              "  .colab-df-quickchart:hover {\n",
              "    background-color: var(--hover-bg-color);\n",
              "    box-shadow: 0 1px 2px rgba(60, 64, 67, 0.3), 0 1px 3px 1px rgba(60, 64, 67, 0.15);\n",
              "    fill: var(--button-hover-fill-color);\n",
              "  }\n",
              "\n",
              "  .colab-df-quickchart-complete:disabled,\n",
              "  .colab-df-quickchart-complete:disabled:hover {\n",
              "    background-color: var(--disabled-bg-color);\n",
              "    fill: var(--disabled-fill-color);\n",
              "    box-shadow: none;\n",
              "  }\n",
              "\n",
              "  .colab-df-spinner {\n",
              "    border: 2px solid var(--fill-color);\n",
              "    border-color: transparent;\n",
              "    border-bottom-color: var(--fill-color);\n",
              "    animation:\n",
              "      spin 1s steps(1) infinite;\n",
              "  }\n",
              "\n",
              "  @keyframes spin {\n",
              "    0% {\n",
              "      border-color: transparent;\n",
              "      border-bottom-color: var(--fill-color);\n",
              "      border-left-color: var(--fill-color);\n",
              "    }\n",
              "    20% {\n",
              "      border-color: transparent;\n",
              "      border-left-color: var(--fill-color);\n",
              "      border-top-color: var(--fill-color);\n",
              "    }\n",
              "    30% {\n",
              "      border-color: transparent;\n",
              "      border-left-color: var(--fill-color);\n",
              "      border-top-color: var(--fill-color);\n",
              "      border-right-color: var(--fill-color);\n",
              "    }\n",
              "    40% {\n",
              "      border-color: transparent;\n",
              "      border-right-color: var(--fill-color);\n",
              "      border-top-color: var(--fill-color);\n",
              "    }\n",
              "    60% {\n",
              "      border-color: transparent;\n",
              "      border-right-color: var(--fill-color);\n",
              "    }\n",
              "    80% {\n",
              "      border-color: transparent;\n",
              "      border-right-color: var(--fill-color);\n",
              "      border-bottom-color: var(--fill-color);\n",
              "    }\n",
              "    90% {\n",
              "      border-color: transparent;\n",
              "      border-bottom-color: var(--fill-color);\n",
              "    }\n",
              "  }\n",
              "</style>\n",
              "\n",
              "  <script>\n",
              "    async function quickchart(key) {\n",
              "      const quickchartButtonEl =\n",
              "        document.querySelector('#' + key + ' button');\n",
              "      quickchartButtonEl.disabled = true;  // To prevent multiple clicks.\n",
              "      quickchartButtonEl.classList.add('colab-df-spinner');\n",
              "      try {\n",
              "        const charts = await google.colab.kernel.invokeFunction(\n",
              "            'suggestCharts', [key], {});\n",
              "      } catch (error) {\n",
              "        console.error('Error during call to suggestCharts:', error);\n",
              "      }\n",
              "      quickchartButtonEl.classList.remove('colab-df-spinner');\n",
              "      quickchartButtonEl.classList.add('colab-df-quickchart-complete');\n",
              "    }\n",
              "    (() => {\n",
              "      let quickchartButtonEl =\n",
              "        document.querySelector('#df-56dc5a65-e342-44e6-8f42-927ad5ee4573 button');\n",
              "      quickchartButtonEl.style.display =\n",
              "        google.colab.kernel.accessAllowed ? 'block' : 'none';\n",
              "    })();\n",
              "  </script>\n",
              "</div>\n",
              "    </div>\n",
              "  </div>\n"
            ],
            "application/vnd.google.colaboratory.intrinsic+json": {
              "type": "dataframe",
              "variable_name": "original_training_df",
              "summary": "{\n  \"name\": \"original_training_df\",\n  \"rows\": 8079,\n  \"fields\": [\n    {\n      \"column\": \"image_id\",\n      \"properties\": {\n        \"dtype\": \"number\",\n        \"std\": 2332,\n        \"min\": 1,\n        \"max\": 8079,\n        \"num_unique_values\": 8079,\n        \"samples\": [\n          2810,\n          7441,\n          7621\n        ],\n        \"semantic_type\": \"\",\n        \"description\": \"\"\n      }\n    },\n    {\n      \"column\": \"filename\",\n      \"properties\": {\n        \"dtype\": \"string\",\n        \"num_unique_values\": 8079,\n        \"samples\": [\n          \"2810.jpg\",\n          \"7441.jpg\",\n          \"7621.jpg\"\n        ],\n        \"semantic_type\": \"\",\n        \"description\": \"\"\n      }\n    },\n    {\n      \"column\": \"label\",\n      \"properties\": {\n        \"dtype\": \"number\",\n        \"std\": 0,\n        \"min\": 0,\n        \"max\": 1,\n        \"num_unique_values\": 2,\n        \"samples\": [\n          1,\n          0\n        ],\n        \"semantic_type\": \"\",\n        \"description\": \"\"\n      }\n    }\n  ]\n}"
            }
          },
          "metadata": {},
          "execution_count": 9
        }
      ]
    },
    {
      "cell_type": "code",
      "source": [
        "original_training_df.shape"
      ],
      "metadata": {
        "colab": {
          "base_uri": "https://localhost:8080/"
        },
        "id": "S31QLvCw6PWu",
        "outputId": "673eeb8d-5f1b-4477-d6b1-6664036ee584"
      },
      "execution_count": 10,
      "outputs": [
        {
          "output_type": "execute_result",
          "data": {
            "text/plain": [
              "(8079, 3)"
            ]
          },
          "metadata": {},
          "execution_count": 10
        }
      ]
    },
    {
      "cell_type": "code",
      "source": [
        "train_df, val_df = train_test_split(original_training_df, test_size=0.2, random_state=42, stratify= original_training_df[\"label\"])"
      ],
      "metadata": {
        "id": "Kc61P8Z8v2-P"
      },
      "execution_count": 11,
      "outputs": []
    },
    {
      "cell_type": "code",
      "source": [
        "# I have to cast the labels because model.compile complained about int64. it expects float32 (for some reason)\n",
        "# train_df[\"label\"] = train_df[\"label\"].astype('float32')\n",
        "# val_df[\"label\"] = val_df[\"label\"].astype('float32')"
      ],
      "metadata": {
        "id": "AAw7oNRT4BSm"
      },
      "execution_count": 12,
      "outputs": []
    },
    {
      "cell_type": "code",
      "source": [
        "train_df[\"label\"].value_counts()"
      ],
      "metadata": {
        "colab": {
          "base_uri": "https://localhost:8080/"
        },
        "id": "8g8Ehvyg9cRI",
        "outputId": "12775b83-aafa-4b7d-9dde-603ec3bc0413"
      },
      "execution_count": 13,
      "outputs": [
        {
          "output_type": "execute_result",
          "data": {
            "text/plain": [
              "0    6091\n",
              "1     372\n",
              "Name: label, dtype: int64"
            ]
          },
          "metadata": {},
          "execution_count": 13
        }
      ]
    },
    {
      "cell_type": "code",
      "source": [
        "val_df[\"label\"].value_counts()"
      ],
      "metadata": {
        "colab": {
          "base_uri": "https://localhost:8080/"
        },
        "id": "xgYjoYP59vuf",
        "outputId": "498386a0-ff4c-4968-add9-07a36dba35a3"
      },
      "execution_count": 14,
      "outputs": [
        {
          "output_type": "execute_result",
          "data": {
            "text/plain": [
              "0    1523\n",
              "1      93\n",
              "Name: label, dtype: int64"
            ]
          },
          "metadata": {},
          "execution_count": 14
        }
      ]
    },
    {
      "cell_type": "code",
      "source": [
        "train_df.shape, val_df.shape"
      ],
      "metadata": {
        "colab": {
          "base_uri": "https://localhost:8080/"
        },
        "id": "2rOmtSLE6EHQ",
        "outputId": "642414e0-04db-486b-a39f-00cf295362f1"
      },
      "execution_count": 15,
      "outputs": [
        {
          "output_type": "execute_result",
          "data": {
            "text/plain": [
              "((6463, 3), (1616, 3))"
            ]
          },
          "metadata": {},
          "execution_count": 15
        }
      ]
    },
    {
      "cell_type": "markdown",
      "source": [
        "# **loading the images into a tensorflow dataset**"
      ],
      "metadata": {
        "id": "ivK-bqiMP2PW"
      }
    },
    {
      "cell_type": "markdown",
      "source": [
        "\n",
        "QUESTION:\n",
        "Is there a smarter way than the one I used to load the images if the folder contains images from both classes and we have a csv\n",
        "file that tells us the label of each image?\n",
        "\n",
        "\n",
        "\n"
      ],
      "metadata": {
        "id": "nk8XP_XtsFRI"
      }
    },
    {
      "cell_type": "markdown",
      "source": [
        "There is this method that works if the directory has subdirectories each corresponding to a class: </br>\n",
        "dir= \"drive/MyDrive/train_hackathon/resized_images/\" </br>\n",
        "dataset= tf.keras.preprocessing.image_dataset_from_directory(dir)\n",
        "\n",
        "If the directory doesn't have subdirectories, it gives a ValueError: No images found in directory\n",
        "drive/MyDrive/train_hackathon/resized_images/. Allowed formats: ('.bmp', '.gif', '.jpeg', '.jpg', '.png')"
      ],
      "metadata": {
        "id": "GtkVGNc6nxxb"
      }
    },
    {
      "cell_type": "code",
      "source": [
        "#dir = \"drive/MyDrive/train_hackathon/resized_images/\"\n",
        "training_dir = \"drive/MyDrive/train_hackathon/images/\"\n",
        "\n",
        "def read_image(image_name, label):\n",
        "  image= tf.io.read_file(training_dir + image_name) # returns an encoded image\n",
        "  image = tf.image.decode_image(image, dtype= tf.float32, expand_animations = False) # returns a tensorflow.python.framework.ops.EagerTensor\n",
        "  return image, label"
      ],
      "metadata": {
        "id": "HRYpePpaHkCB"
      },
      "execution_count": 16,
      "outputs": []
    },
    {
      "cell_type": "markdown",
      "source": [
        "**Very Important:** in the **tf.image.decode_image** we should pass as a parameter **expand_animations= False**, otherwise we will get errors applying tf.image.resize. The error was:   \n",
        "File \"<ipython-input-25-6ff5a1ab44c3>\", line 2, in trivial_preprocessing  *\n",
        "        image = tf.image.resize(image, [height, width])\n",
        "\n",
        "    ValueError: 'images' contains no shape.\n",
        "\n",
        "Here is the documentation: https://www.tensorflow.org/api_docs/python/tf/io/decode_image\n",
        "\n",
        "Stackoverflow: https://stackoverflow.com/questions/44942729/tensorflowvalueerror-images-contains-no-shape\n"
      ],
      "metadata": {
        "id": "on0DCYk9R5AI"
      }
    },
    {
      "cell_type": "code",
      "source": [
        "images_names_train = train_df[\"filename\"].values\n",
        "labels_train = train_df[\"label\"].values\n",
        "ds_train = tf.data.Dataset.from_tensor_slices((images_names_train, labels_train))\n",
        "ds_train = ds_train.map(read_image)"
      ],
      "metadata": {
        "id": "YND2ANN9bEjN"
      },
      "execution_count": 17,
      "outputs": []
    },
    {
      "cell_type": "code",
      "source": [
        "ds_train"
      ],
      "metadata": {
        "colab": {
          "base_uri": "https://localhost:8080/"
        },
        "id": "CjdNI1xVRTne",
        "outputId": "0563af2c-4780-44cd-9ee4-30d9d835ccc4"
      },
      "execution_count": 18,
      "outputs": [
        {
          "output_type": "execute_result",
          "data": {
            "text/plain": [
              "<_MapDataset element_spec=(TensorSpec(shape=(None, None, None), dtype=tf.float32, name=None), TensorSpec(shape=(), dtype=tf.int64, name=None))>"
            ]
          },
          "metadata": {},
          "execution_count": 18
        }
      ]
    },
    {
      "cell_type": "code",
      "source": [
        "# same for validation data\n",
        "images_names_val = val_df[\"filename\"].values\n",
        "labels_val = val_df[\"label\"].values\n",
        "ds_val = tf.data.Dataset.from_tensor_slices((images_names_val, labels_val))\n",
        "ds_val = ds_val.map(read_image)"
      ],
      "metadata": {
        "id": "CfhVhOScbeEG"
      },
      "execution_count": 19,
      "outputs": []
    },
    {
      "cell_type": "code",
      "source": [
        "ds_train = ds_train.cache()\n",
        "ds_val = ds_val.cache()"
      ],
      "metadata": {
        "id": "B7NRweuG07qr"
      },
      "execution_count": 20,
      "outputs": []
    },
    {
      "cell_type": "code",
      "source": [
        "len(ds_train)"
      ],
      "metadata": {
        "colab": {
          "base_uri": "https://localhost:8080/"
        },
        "id": "VsfLO8zbX6cn",
        "outputId": "3dccab0e-4dde-4561-e9f2-2cc61da58882"
      },
      "execution_count": 21,
      "outputs": [
        {
          "output_type": "execute_result",
          "data": {
            "text/plain": [
              "6463"
            ]
          },
          "metadata": {},
          "execution_count": 21
        }
      ]
    },
    {
      "cell_type": "code",
      "source": [
        "type(ds_train)"
      ],
      "metadata": {
        "colab": {
          "base_uri": "https://localhost:8080/",
          "height": 121
        },
        "id": "261TMOnxcyat",
        "outputId": "e9902cbe-9739-4a0b-b9dc-257ac39d73b6"
      },
      "execution_count": 22,
      "outputs": [
        {
          "output_type": "execute_result",
          "data": {
            "text/plain": [
              "tensorflow.python.data.ops.cache_op.CacheDataset"
            ],
            "text/html": [
              "<div style=\"max-width:800px; border: 1px solid var(--colab-border-color);\"><style>\n",
              "      pre.function-repr-contents {\n",
              "        overflow-x: auto;\n",
              "        padding: 8px 12px;\n",
              "        max-height: 500px;\n",
              "      }\n",
              "\n",
              "      pre.function-repr-contents.function-repr-contents-collapsed {\n",
              "        cursor: pointer;\n",
              "        max-height: 100px;\n",
              "      }\n",
              "    </style>\n",
              "    <pre style=\"white-space: initial; background:\n",
              "         var(--colab-secondary-surface-color); padding: 8px 12px;\n",
              "         border-bottom: 1px solid var(--colab-border-color);\"><b>tensorflow.python.data.ops.cache_op.CacheDataset</b><br/>def __init__(input_dataset, filename, name=None)</pre><pre class=\"function-repr-contents function-repr-contents-collapsed\" style=\"\"><a class=\"filepath\" style=\"display:none\" href=\"#\">/usr/local/lib/python3.10/dist-packages/tensorflow/python/data/ops/cache_op.py</a>A `Dataset` that caches elements of its input.</pre>\n",
              "      <script>\n",
              "      if (google.colab.kernel.accessAllowed && google.colab.files && google.colab.files.view) {\n",
              "        for (const element of document.querySelectorAll('.filepath')) {\n",
              "          element.style.display = 'block'\n",
              "          element.onclick = (event) => {\n",
              "            event.preventDefault();\n",
              "            event.stopPropagation();\n",
              "            google.colab.files.view(element.textContent, 29);\n",
              "          };\n",
              "        }\n",
              "      }\n",
              "      for (const element of document.querySelectorAll('.function-repr-contents')) {\n",
              "        element.onclick = (event) => {\n",
              "          event.preventDefault();\n",
              "          event.stopPropagation();\n",
              "          element.classList.toggle('function-repr-contents-collapsed');\n",
              "        };\n",
              "      }\n",
              "      </script>\n",
              "      </div>"
            ]
          },
          "metadata": {},
          "execution_count": 22
        }
      ]
    },
    {
      "cell_type": "code",
      "source": [
        "ds_train"
      ],
      "metadata": {
        "colab": {
          "base_uri": "https://localhost:8080/"
        },
        "id": "JHEn3gbOWvbm",
        "outputId": "1893b230-48e5-4a5d-a22f-6568892e9163"
      },
      "execution_count": 23,
      "outputs": [
        {
          "output_type": "execute_result",
          "data": {
            "text/plain": [
              "<CacheDataset element_spec=(TensorSpec(shape=(None, None, None), dtype=tf.float32, name=None), TensorSpec(shape=(), dtype=tf.int64, name=None))>"
            ]
          },
          "metadata": {},
          "execution_count": 23
        }
      ]
    },
    {
      "cell_type": "code",
      "source": [
        "img = read_image(\"1.jpg\",0)[0]"
      ],
      "metadata": {
        "id": "JpSMWrCPSyX-"
      },
      "execution_count": 24,
      "outputs": []
    },
    {
      "cell_type": "code",
      "source": [
        "type(img)"
      ],
      "metadata": {
        "colab": {
          "base_uri": "https://localhost:8080/"
        },
        "id": "89IXn0j7as-W",
        "outputId": "0d145ba2-6a03-4ff2-8729-95de7f606d91"
      },
      "execution_count": 25,
      "outputs": [
        {
          "output_type": "execute_result",
          "data": {
            "text/plain": [
              "tensorflow.python.framework.ops.EagerTensor"
            ]
          },
          "metadata": {},
          "execution_count": 25
        }
      ]
    },
    {
      "cell_type": "code",
      "source": [
        "img.get_shape(), img.shape"
      ],
      "metadata": {
        "colab": {
          "base_uri": "https://localhost:8080/"
        },
        "id": "ezyAOZSjTjxK",
        "outputId": "eba5d829-4877-45fd-ea97-4869e387672d"
      },
      "execution_count": 26,
      "outputs": [
        {
          "output_type": "execute_result",
          "data": {
            "text/plain": [
              "(TensorShape([649, 866, 3]), TensorShape([649, 866, 3]))"
            ]
          },
          "metadata": {},
          "execution_count": 26
        }
      ]
    },
    {
      "cell_type": "markdown",
      "source": [
        "# Trivial preprocessing: resizing and rescaling"
      ],
      "metadata": {
        "id": "AtITf9-8z1aU"
      }
    },
    {
      "cell_type": "markdown",
      "source": [
        "## Attempt 1:"
      ],
      "metadata": {
        "id": "6qzFuYVT3a2D"
      }
    },
    {
      "cell_type": "code",
      "source": [
        "height = 600\n",
        "width = 800"
      ],
      "metadata": {
        "id": "nU9nRRhOUl8w"
      },
      "execution_count": 27,
      "outputs": []
    },
    {
      "cell_type": "code",
      "source": [
        "def trivial_preprocessing(image,label):\n",
        "      image = tf.image.resize(image, [height, width])\n",
        "      image = tf.ensure_shape(image, [height, width, 3])\n",
        "      image = tf.cast(image, tf.float32)/255.0\n",
        "      return image,label"
      ],
      "metadata": {
        "id": "4SwacEKIQg1I"
      },
      "execution_count": 28,
      "outputs": []
    },
    {
      "cell_type": "code",
      "source": [
        "# ds_train = ds_train.shuffle(buffer_size = len(ds_train)).map(trivial_preprocessing).batch(128)\n",
        "# ds_val= ds_val.shuffle(buffer_size = len(ds_val)).map(trivial_preprocessing).batch(128)\n",
        "\n",
        "ds_train = ds_train.map(trivial_preprocessing)"
      ],
      "metadata": {
        "id": "B1hv-5AOuVDs"
      },
      "execution_count": 29,
      "outputs": []
    },
    {
      "cell_type": "code",
      "source": [
        "ds_train"
      ],
      "metadata": {
        "colab": {
          "base_uri": "https://localhost:8080/"
        },
        "id": "18e3x9lk3l_6",
        "outputId": "86d8ee81-34ef-488f-9910-242321c94a84"
      },
      "execution_count": 30,
      "outputs": [
        {
          "output_type": "execute_result",
          "data": {
            "text/plain": [
              "<_MapDataset element_spec=(TensorSpec(shape=(600, 800, 3), dtype=tf.float32, name=None), TensorSpec(shape=(), dtype=tf.int64, name=None))>"
            ]
          },
          "metadata": {},
          "execution_count": 30
        }
      ]
    },
    {
      "cell_type": "code",
      "source": [
        "ds_train.cache()"
      ],
      "metadata": {
        "colab": {
          "base_uri": "https://localhost:8080/"
        },
        "id": "SavkwyzgDDYA",
        "outputId": "9ea31563-9dc3-4403-bab5-e5378215b9f3"
      },
      "execution_count": 31,
      "outputs": [
        {
          "output_type": "execute_result",
          "data": {
            "text/plain": [
              "<CacheDataset element_spec=(TensorSpec(shape=(600, 800, 3), dtype=tf.float32, name=None), TensorSpec(shape=(), dtype=tf.int64, name=None))>"
            ]
          },
          "metadata": {},
          "execution_count": 31
        }
      ]
    },
    {
      "cell_type": "markdown",
      "source": [
        "**To understand .shuffle and .batch** watch this https://www.youtube.com/watch?v=c7G5W4Wv72Q"
      ],
      "metadata": {
        "id": "Mg-3gv00ZxiA"
      }
    },
    {
      "cell_type": "markdown",
      "source": [
        "## Attempt 2:"
      ],
      "metadata": {
        "id": "2xdQQZZi3-zv"
      }
    },
    {
      "cell_type": "code",
      "source": [
        "height = 600\n",
        "width = 800\n",
        "\n",
        "trivial_preprocessing_layers = tf.keras.Sequential([\n",
        "  layers.Resizing(height= height, width= width),\n",
        "  # Ensure the image has 3 channels (e.g., for RGB images)\n",
        "  layers.Lambda(lambda x: tf.ensure_shape(x, [height, width, 3])),\n",
        "  layers.Rescaling(1./255)\n",
        "])"
      ],
      "metadata": {
        "id": "iQdKQndK4Cab"
      },
      "execution_count": null,
      "outputs": []
    },
    {
      "cell_type": "code",
      "source": [
        "ds_train = ds_train.map(lambda image, label: (trivial_preprocessing_layers(image), label))"
      ],
      "metadata": {
        "id": "ImYn9aC1X4f8"
      },
      "execution_count": null,
      "outputs": []
    },
    {
      "cell_type": "code",
      "source": [
        "ds_train"
      ],
      "metadata": {
        "colab": {
          "base_uri": "https://localhost:8080/"
        },
        "id": "rflLX0Q3w4HV",
        "outputId": "1fc0eaef-3411-4d5f-ff39-02354435e84f"
      },
      "execution_count": null,
      "outputs": [
        {
          "output_type": "execute_result",
          "data": {
            "text/plain": [
              "<_MapDataset element_spec=(TensorSpec(shape=(600, 800, 3), dtype=tf.float32, name=None), TensorSpec(shape=(), dtype=tf.int64, name=None))>"
            ]
          },
          "metadata": {},
          "execution_count": 64
        }
      ]
    },
    {
      "cell_type": "markdown",
      "source": [
        "# Baseline model without data augmentation"
      ],
      "metadata": {
        "id": "sVrynQA2eenK"
      }
    },
    {
      "cell_type": "code",
      "source": [
        "baseline_model = Sequential()\n",
        "baseline_model.add(InputLayer(input_shape=(height, width, 3)))\n",
        "baseline_model.add(Conv2D(5, (5, 5), activation='relu', strides=(2,2), padding='valid'))\n",
        "baseline_model.add(MaxPool2D(pool_size=(5, 5), padding='same'))\n",
        "baseline_model.add(Flatten())\n",
        "baseline_model.add(Dense(units=128, activation='sigmoid'))\n",
        "baseline_model.add(Dense(units=1, activation='sigmoid'))"
      ],
      "metadata": {
        "id": "ohlI5VapuikZ"
      },
      "execution_count": null,
      "outputs": []
    },
    {
      "cell_type": "code",
      "source": [
        "baseline_model.summary()"
      ],
      "metadata": {
        "colab": {
          "base_uri": "https://localhost:8080/"
        },
        "id": "KEUMVB-Q2YGy",
        "outputId": "e81ad877-d710-4692-c323-4f509dcecfec"
      },
      "execution_count": null,
      "outputs": [
        {
          "output_type": "stream",
          "name": "stdout",
          "text": [
            "Model: \"sequential\"\n",
            "_________________________________________________________________\n",
            " Layer (type)                Output Shape              Param #   \n",
            "=================================================================\n",
            " conv2d (Conv2D)             (None, 298, 398, 5)       380       \n",
            "                                                                 \n",
            " max_pooling2d (MaxPooling2  (None, 60, 80, 5)         0         \n",
            " D)                                                              \n",
            "                                                                 \n",
            " flatten (Flatten)           (None, 24000)             0         \n",
            "                                                                 \n",
            " dense (Dense)               (None, 128)               3072128   \n",
            "                                                                 \n",
            " dense_1 (Dense)             (None, 1)                 129       \n",
            "                                                                 \n",
            "=================================================================\n",
            "Total params: 3072637 (11.72 MB)\n",
            "Trainable params: 3072637 (11.72 MB)\n",
            "Non-trainable params: 0 (0.00 Byte)\n",
            "_________________________________________________________________\n"
          ]
        }
      ]
    },
    {
      "cell_type": "code",
      "source": [
        "metric = tf.keras.metrics.F1Score(average= \"macro\", threshold= 0.5, name='macro_f1_score')\n",
        "adam = Adam(learning_rate =1e-5)\n",
        "baseline_model.compile(optimizer = adam, loss='binary_crossentropy', metrics=[metric])"
      ],
      "metadata": {
        "id": "jRgVSvDXx6_r"
      },
      "execution_count": null,
      "outputs": []
    },
    {
      "cell_type": "code",
      "source": [
        "train_df.dtypes"
      ],
      "metadata": {
        "colab": {
          "base_uri": "https://localhost:8080/"
        },
        "id": "lRA8phhN3v22",
        "outputId": "f803aada-5a14-4efb-9410-56ec75c312d1"
      },
      "execution_count": null,
      "outputs": [
        {
          "output_type": "execute_result",
          "data": {
            "text/plain": [
              "image_id      int64\n",
              "filename     object\n",
              "label       float32\n",
              "dtype: object"
            ]
          },
          "metadata": {},
          "execution_count": 156
        }
      ]
    },
    {
      "cell_type": "code",
      "source": [
        "num_epochs = 50\n",
        "early_stopping = EarlyStopping(monitor='val_loss', min_delta=0.01, patience=3, mode='min')\n",
        "baseline_model_history=  baseline_model.fit(ds_train, epochs=num_epochs, validation_data=ds_val, callbacks=[early_stopping])"
      ],
      "metadata": {
        "colab": {
          "base_uri": "https://localhost:8080/",
          "height": 757
        },
        "id": "dHU7rXtk1DvW",
        "outputId": "f7df7e08-adc3-4681-831e-913bac77446a"
      },
      "execution_count": null,
      "outputs": [
        {
          "output_type": "stream",
          "name": "stdout",
          "text": [
            "Epoch 1/50\n",
            "51/51 [==============================] - 1731s 33s/step - loss: 0.5145 - macro_f1_score: 0.0000e+00 - val_loss: 0.4972 - val_macro_f1_score: 0.0000e+00\n",
            "Epoch 2/50\n",
            "51/51 [==============================] - 549s 11s/step - loss: 0.4744 - macro_f1_score: 0.0000e+00 - val_loss: 0.4457 - val_macro_f1_score: 0.0000e+00\n",
            "Epoch 3/50\n",
            "51/51 [==============================] - 538s 11s/step - loss: 0.4140 - macro_f1_score: 0.0000e+00 - val_loss: 0.3782 - val_macro_f1_score: 0.0000e+00\n",
            "Epoch 4/50\n",
            "51/51 [==============================] - 518s 10s/step - loss: 0.3463 - macro_f1_score: 0.0000e+00 - val_loss: 0.3140 - val_macro_f1_score: 0.0000e+00\n",
            "Epoch 5/50\n",
            "51/51 [==============================] - 533s 10s/step - loss: 0.2912 - macro_f1_score: 0.0000e+00 - val_loss: 0.2698 - val_macro_f1_score: 0.0000e+00\n",
            "Epoch 6/50\n",
            "51/51 [==============================] - 502s 10s/step - loss: 0.2565 - macro_f1_score: 0.0000e+00 - val_loss: 0.2446 - val_macro_f1_score: 0.0000e+00\n",
            "Epoch 7/50\n",
            "51/51 [==============================] - 536s 10s/step - loss: 0.2380 - macro_f1_score: 0.0000e+00 - val_loss: 0.2319 - val_macro_f1_score: 0.0000e+00\n",
            "Epoch 8/50\n",
            "51/51 [==============================] - 535s 10s/step - loss: 0.2288 - macro_f1_score: 0.0000e+00 - val_loss: 0.2258 - val_macro_f1_score: 0.0000e+00\n",
            "Epoch 9/50\n",
            "51/51 [==============================] - 534s 10s/step - loss: 0.2245 - macro_f1_score: 0.0000e+00 - val_loss: 0.2230 - val_macro_f1_score: 0.0000e+00\n",
            "Epoch 10/50\n",
            "51/51 [==============================] - 535s 10s/step - loss: 0.2225 - macro_f1_score: 0.0000e+00 - val_loss: 0.2219 - val_macro_f1_score: 0.0000e+00\n",
            "Epoch 11/50\n",
            "46/51 [==========================>...] - ETA: 45s - loss: 0.2226 - macro_f1_score: 0.0000e+00"
          ]
        },
        {
          "output_type": "error",
          "ename": "KeyboardInterrupt",
          "evalue": "",
          "traceback": [
            "\u001b[0;31m---------------------------------------------------------------------------\u001b[0m",
            "\u001b[0;31mKeyboardInterrupt\u001b[0m                         Traceback (most recent call last)",
            "\u001b[0;32m<ipython-input-19-8238622df248>\u001b[0m in \u001b[0;36m<cell line: 3>\u001b[0;34m()\u001b[0m\n\u001b[1;32m      1\u001b[0m \u001b[0mnum_epochs\u001b[0m \u001b[0;34m=\u001b[0m \u001b[0;36m50\u001b[0m\u001b[0;34m\u001b[0m\u001b[0;34m\u001b[0m\u001b[0m\n\u001b[1;32m      2\u001b[0m \u001b[0mearly_stopping\u001b[0m \u001b[0;34m=\u001b[0m \u001b[0mEarlyStopping\u001b[0m\u001b[0;34m(\u001b[0m\u001b[0mmonitor\u001b[0m\u001b[0;34m=\u001b[0m\u001b[0;34m'val_loss'\u001b[0m\u001b[0;34m,\u001b[0m \u001b[0mmin_delta\u001b[0m\u001b[0;34m=\u001b[0m\u001b[0;36m0.01\u001b[0m\u001b[0;34m,\u001b[0m \u001b[0mpatience\u001b[0m\u001b[0;34m=\u001b[0m\u001b[0;36m3\u001b[0m\u001b[0;34m,\u001b[0m \u001b[0mmode\u001b[0m\u001b[0;34m=\u001b[0m\u001b[0;34m'min'\u001b[0m\u001b[0;34m)\u001b[0m\u001b[0;34m\u001b[0m\u001b[0;34m\u001b[0m\u001b[0m\n\u001b[0;32m----> 3\u001b[0;31m \u001b[0mbaseline_model_history\u001b[0m\u001b[0;34m=\u001b[0m  \u001b[0mbaseline_model\u001b[0m\u001b[0;34m.\u001b[0m\u001b[0mfit\u001b[0m\u001b[0;34m(\u001b[0m\u001b[0mds_train\u001b[0m\u001b[0;34m,\u001b[0m \u001b[0mepochs\u001b[0m\u001b[0;34m=\u001b[0m\u001b[0mnum_epochs\u001b[0m\u001b[0;34m,\u001b[0m \u001b[0mvalidation_data\u001b[0m\u001b[0;34m=\u001b[0m\u001b[0mds_val\u001b[0m\u001b[0;34m,\u001b[0m \u001b[0mcallbacks\u001b[0m\u001b[0;34m=\u001b[0m\u001b[0;34m[\u001b[0m\u001b[0mearly_stopping\u001b[0m\u001b[0;34m]\u001b[0m\u001b[0;34m)\u001b[0m\u001b[0;34m\u001b[0m\u001b[0;34m\u001b[0m\u001b[0m\n\u001b[0m",
            "\u001b[0;32m/usr/local/lib/python3.10/dist-packages/keras/src/utils/traceback_utils.py\u001b[0m in \u001b[0;36merror_handler\u001b[0;34m(*args, **kwargs)\u001b[0m\n\u001b[1;32m     63\u001b[0m         \u001b[0mfiltered_tb\u001b[0m \u001b[0;34m=\u001b[0m \u001b[0;32mNone\u001b[0m\u001b[0;34m\u001b[0m\u001b[0;34m\u001b[0m\u001b[0m\n\u001b[1;32m     64\u001b[0m         \u001b[0;32mtry\u001b[0m\u001b[0;34m:\u001b[0m\u001b[0;34m\u001b[0m\u001b[0;34m\u001b[0m\u001b[0m\n\u001b[0;32m---> 65\u001b[0;31m             \u001b[0;32mreturn\u001b[0m \u001b[0mfn\u001b[0m\u001b[0;34m(\u001b[0m\u001b[0;34m*\u001b[0m\u001b[0margs\u001b[0m\u001b[0;34m,\u001b[0m \u001b[0;34m**\u001b[0m\u001b[0mkwargs\u001b[0m\u001b[0;34m)\u001b[0m\u001b[0;34m\u001b[0m\u001b[0;34m\u001b[0m\u001b[0m\n\u001b[0m\u001b[1;32m     66\u001b[0m         \u001b[0;32mexcept\u001b[0m \u001b[0mException\u001b[0m \u001b[0;32mas\u001b[0m \u001b[0me\u001b[0m\u001b[0;34m:\u001b[0m\u001b[0;34m\u001b[0m\u001b[0;34m\u001b[0m\u001b[0m\n\u001b[1;32m     67\u001b[0m             \u001b[0mfiltered_tb\u001b[0m \u001b[0;34m=\u001b[0m \u001b[0m_process_traceback_frames\u001b[0m\u001b[0;34m(\u001b[0m\u001b[0me\u001b[0m\u001b[0;34m.\u001b[0m\u001b[0m__traceback__\u001b[0m\u001b[0;34m)\u001b[0m\u001b[0;34m\u001b[0m\u001b[0;34m\u001b[0m\u001b[0m\n",
            "\u001b[0;32m/usr/local/lib/python3.10/dist-packages/keras/src/engine/training.py\u001b[0m in \u001b[0;36mfit\u001b[0;34m(self, x, y, batch_size, epochs, verbose, callbacks, validation_split, validation_data, shuffle, class_weight, sample_weight, initial_epoch, steps_per_epoch, validation_steps, validation_batch_size, validation_freq, max_queue_size, workers, use_multiprocessing)\u001b[0m\n\u001b[1;32m   1805\u001b[0m                         ):\n\u001b[1;32m   1806\u001b[0m                             \u001b[0mcallbacks\u001b[0m\u001b[0;34m.\u001b[0m\u001b[0mon_train_batch_begin\u001b[0m\u001b[0;34m(\u001b[0m\u001b[0mstep\u001b[0m\u001b[0;34m)\u001b[0m\u001b[0;34m\u001b[0m\u001b[0;34m\u001b[0m\u001b[0m\n\u001b[0;32m-> 1807\u001b[0;31m                             \u001b[0mtmp_logs\u001b[0m \u001b[0;34m=\u001b[0m \u001b[0mself\u001b[0m\u001b[0;34m.\u001b[0m\u001b[0mtrain_function\u001b[0m\u001b[0;34m(\u001b[0m\u001b[0miterator\u001b[0m\u001b[0;34m)\u001b[0m\u001b[0;34m\u001b[0m\u001b[0;34m\u001b[0m\u001b[0m\n\u001b[0m\u001b[1;32m   1808\u001b[0m                             \u001b[0;32mif\u001b[0m \u001b[0mdata_handler\u001b[0m\u001b[0;34m.\u001b[0m\u001b[0mshould_sync\u001b[0m\u001b[0;34m:\u001b[0m\u001b[0;34m\u001b[0m\u001b[0;34m\u001b[0m\u001b[0m\n\u001b[1;32m   1809\u001b[0m                                 \u001b[0mcontext\u001b[0m\u001b[0;34m.\u001b[0m\u001b[0masync_wait\u001b[0m\u001b[0;34m(\u001b[0m\u001b[0;34m)\u001b[0m\u001b[0;34m\u001b[0m\u001b[0;34m\u001b[0m\u001b[0m\n",
            "\u001b[0;32m/usr/local/lib/python3.10/dist-packages/tensorflow/python/util/traceback_utils.py\u001b[0m in \u001b[0;36merror_handler\u001b[0;34m(*args, **kwargs)\u001b[0m\n\u001b[1;32m    148\u001b[0m     \u001b[0mfiltered_tb\u001b[0m \u001b[0;34m=\u001b[0m \u001b[0;32mNone\u001b[0m\u001b[0;34m\u001b[0m\u001b[0;34m\u001b[0m\u001b[0m\n\u001b[1;32m    149\u001b[0m     \u001b[0;32mtry\u001b[0m\u001b[0;34m:\u001b[0m\u001b[0;34m\u001b[0m\u001b[0;34m\u001b[0m\u001b[0m\n\u001b[0;32m--> 150\u001b[0;31m       \u001b[0;32mreturn\u001b[0m \u001b[0mfn\u001b[0m\u001b[0;34m(\u001b[0m\u001b[0;34m*\u001b[0m\u001b[0margs\u001b[0m\u001b[0;34m,\u001b[0m \u001b[0;34m**\u001b[0m\u001b[0mkwargs\u001b[0m\u001b[0;34m)\u001b[0m\u001b[0;34m\u001b[0m\u001b[0;34m\u001b[0m\u001b[0m\n\u001b[0m\u001b[1;32m    151\u001b[0m     \u001b[0;32mexcept\u001b[0m \u001b[0mException\u001b[0m \u001b[0;32mas\u001b[0m \u001b[0me\u001b[0m\u001b[0;34m:\u001b[0m\u001b[0;34m\u001b[0m\u001b[0;34m\u001b[0m\u001b[0m\n\u001b[1;32m    152\u001b[0m       \u001b[0mfiltered_tb\u001b[0m \u001b[0;34m=\u001b[0m \u001b[0m_process_traceback_frames\u001b[0m\u001b[0;34m(\u001b[0m\u001b[0me\u001b[0m\u001b[0;34m.\u001b[0m\u001b[0m__traceback__\u001b[0m\u001b[0;34m)\u001b[0m\u001b[0;34m\u001b[0m\u001b[0;34m\u001b[0m\u001b[0m\n",
            "\u001b[0;32m/usr/local/lib/python3.10/dist-packages/tensorflow/python/eager/polymorphic_function/polymorphic_function.py\u001b[0m in \u001b[0;36m__call__\u001b[0;34m(self, *args, **kwds)\u001b[0m\n\u001b[1;32m    830\u001b[0m \u001b[0;34m\u001b[0m\u001b[0m\n\u001b[1;32m    831\u001b[0m       \u001b[0;32mwith\u001b[0m \u001b[0mOptionalXlaContext\u001b[0m\u001b[0;34m(\u001b[0m\u001b[0mself\u001b[0m\u001b[0;34m.\u001b[0m\u001b[0m_jit_compile\u001b[0m\u001b[0;34m)\u001b[0m\u001b[0;34m:\u001b[0m\u001b[0;34m\u001b[0m\u001b[0;34m\u001b[0m\u001b[0m\n\u001b[0;32m--> 832\u001b[0;31m         \u001b[0mresult\u001b[0m \u001b[0;34m=\u001b[0m \u001b[0mself\u001b[0m\u001b[0;34m.\u001b[0m\u001b[0m_call\u001b[0m\u001b[0;34m(\u001b[0m\u001b[0;34m*\u001b[0m\u001b[0margs\u001b[0m\u001b[0;34m,\u001b[0m \u001b[0;34m**\u001b[0m\u001b[0mkwds\u001b[0m\u001b[0;34m)\u001b[0m\u001b[0;34m\u001b[0m\u001b[0;34m\u001b[0m\u001b[0m\n\u001b[0m\u001b[1;32m    833\u001b[0m \u001b[0;34m\u001b[0m\u001b[0m\n\u001b[1;32m    834\u001b[0m       \u001b[0mnew_tracing_count\u001b[0m \u001b[0;34m=\u001b[0m \u001b[0mself\u001b[0m\u001b[0;34m.\u001b[0m\u001b[0mexperimental_get_tracing_count\u001b[0m\u001b[0;34m(\u001b[0m\u001b[0;34m)\u001b[0m\u001b[0;34m\u001b[0m\u001b[0;34m\u001b[0m\u001b[0m\n",
            "\u001b[0;32m/usr/local/lib/python3.10/dist-packages/tensorflow/python/eager/polymorphic_function/polymorphic_function.py\u001b[0m in \u001b[0;36m_call\u001b[0;34m(self, *args, **kwds)\u001b[0m\n\u001b[1;32m    866\u001b[0m       \u001b[0;31m# In this case we have created variables on the first call, so we run the\u001b[0m\u001b[0;34m\u001b[0m\u001b[0;34m\u001b[0m\u001b[0m\n\u001b[1;32m    867\u001b[0m       \u001b[0;31m# defunned version which is guaranteed to never create variables.\u001b[0m\u001b[0;34m\u001b[0m\u001b[0;34m\u001b[0m\u001b[0m\n\u001b[0;32m--> 868\u001b[0;31m       return tracing_compilation.call_function(\n\u001b[0m\u001b[1;32m    869\u001b[0m           \u001b[0margs\u001b[0m\u001b[0;34m,\u001b[0m \u001b[0mkwds\u001b[0m\u001b[0;34m,\u001b[0m \u001b[0mself\u001b[0m\u001b[0;34m.\u001b[0m\u001b[0m_no_variable_creation_config\u001b[0m\u001b[0;34m\u001b[0m\u001b[0;34m\u001b[0m\u001b[0m\n\u001b[1;32m    870\u001b[0m       )\n",
            "\u001b[0;32m/usr/local/lib/python3.10/dist-packages/tensorflow/python/eager/polymorphic_function/tracing_compilation.py\u001b[0m in \u001b[0;36mcall_function\u001b[0;34m(args, kwargs, tracing_options)\u001b[0m\n\u001b[1;32m    137\u001b[0m   \u001b[0mbound_args\u001b[0m \u001b[0;34m=\u001b[0m \u001b[0mfunction\u001b[0m\u001b[0;34m.\u001b[0m\u001b[0mfunction_type\u001b[0m\u001b[0;34m.\u001b[0m\u001b[0mbind\u001b[0m\u001b[0;34m(\u001b[0m\u001b[0;34m*\u001b[0m\u001b[0margs\u001b[0m\u001b[0;34m,\u001b[0m \u001b[0;34m**\u001b[0m\u001b[0mkwargs\u001b[0m\u001b[0;34m)\u001b[0m\u001b[0;34m\u001b[0m\u001b[0;34m\u001b[0m\u001b[0m\n\u001b[1;32m    138\u001b[0m   \u001b[0mflat_inputs\u001b[0m \u001b[0;34m=\u001b[0m \u001b[0mfunction\u001b[0m\u001b[0;34m.\u001b[0m\u001b[0mfunction_type\u001b[0m\u001b[0;34m.\u001b[0m\u001b[0munpack_inputs\u001b[0m\u001b[0;34m(\u001b[0m\u001b[0mbound_args\u001b[0m\u001b[0;34m)\u001b[0m\u001b[0;34m\u001b[0m\u001b[0;34m\u001b[0m\u001b[0m\n\u001b[0;32m--> 139\u001b[0;31m   return function._call_flat(  # pylint: disable=protected-access\n\u001b[0m\u001b[1;32m    140\u001b[0m       \u001b[0mflat_inputs\u001b[0m\u001b[0;34m,\u001b[0m \u001b[0mcaptured_inputs\u001b[0m\u001b[0;34m=\u001b[0m\u001b[0mfunction\u001b[0m\u001b[0;34m.\u001b[0m\u001b[0mcaptured_inputs\u001b[0m\u001b[0;34m\u001b[0m\u001b[0;34m\u001b[0m\u001b[0m\n\u001b[1;32m    141\u001b[0m   )\n",
            "\u001b[0;32m/usr/local/lib/python3.10/dist-packages/tensorflow/python/eager/polymorphic_function/concrete_function.py\u001b[0m in \u001b[0;36m_call_flat\u001b[0;34m(self, tensor_inputs, captured_inputs)\u001b[0m\n\u001b[1;32m   1321\u001b[0m         and executing_eagerly):\n\u001b[1;32m   1322\u001b[0m       \u001b[0;31m# No tape is watching; skip to running the function.\u001b[0m\u001b[0;34m\u001b[0m\u001b[0;34m\u001b[0m\u001b[0m\n\u001b[0;32m-> 1323\u001b[0;31m       \u001b[0;32mreturn\u001b[0m \u001b[0mself\u001b[0m\u001b[0;34m.\u001b[0m\u001b[0m_inference_function\u001b[0m\u001b[0;34m.\u001b[0m\u001b[0mcall_preflattened\u001b[0m\u001b[0;34m(\u001b[0m\u001b[0margs\u001b[0m\u001b[0;34m)\u001b[0m\u001b[0;34m\u001b[0m\u001b[0;34m\u001b[0m\u001b[0m\n\u001b[0m\u001b[1;32m   1324\u001b[0m     forward_backward = self._select_forward_and_backward_functions(\n\u001b[1;32m   1325\u001b[0m         \u001b[0margs\u001b[0m\u001b[0;34m,\u001b[0m\u001b[0;34m\u001b[0m\u001b[0;34m\u001b[0m\u001b[0m\n",
            "\u001b[0;32m/usr/local/lib/python3.10/dist-packages/tensorflow/python/eager/polymorphic_function/atomic_function.py\u001b[0m in \u001b[0;36mcall_preflattened\u001b[0;34m(self, args)\u001b[0m\n\u001b[1;32m    214\u001b[0m   \u001b[0;32mdef\u001b[0m \u001b[0mcall_preflattened\u001b[0m\u001b[0;34m(\u001b[0m\u001b[0mself\u001b[0m\u001b[0;34m,\u001b[0m \u001b[0margs\u001b[0m\u001b[0;34m:\u001b[0m \u001b[0mSequence\u001b[0m\u001b[0;34m[\u001b[0m\u001b[0mcore\u001b[0m\u001b[0;34m.\u001b[0m\u001b[0mTensor\u001b[0m\u001b[0;34m]\u001b[0m\u001b[0;34m)\u001b[0m \u001b[0;34m->\u001b[0m \u001b[0mAny\u001b[0m\u001b[0;34m:\u001b[0m\u001b[0;34m\u001b[0m\u001b[0;34m\u001b[0m\u001b[0m\n\u001b[1;32m    215\u001b[0m     \u001b[0;34m\"\"\"Calls with flattened tensor inputs and returns the structured output.\"\"\"\u001b[0m\u001b[0;34m\u001b[0m\u001b[0;34m\u001b[0m\u001b[0m\n\u001b[0;32m--> 216\u001b[0;31m     \u001b[0mflat_outputs\u001b[0m \u001b[0;34m=\u001b[0m \u001b[0mself\u001b[0m\u001b[0;34m.\u001b[0m\u001b[0mcall_flat\u001b[0m\u001b[0;34m(\u001b[0m\u001b[0;34m*\u001b[0m\u001b[0margs\u001b[0m\u001b[0;34m)\u001b[0m\u001b[0;34m\u001b[0m\u001b[0;34m\u001b[0m\u001b[0m\n\u001b[0m\u001b[1;32m    217\u001b[0m     \u001b[0;32mreturn\u001b[0m \u001b[0mself\u001b[0m\u001b[0;34m.\u001b[0m\u001b[0mfunction_type\u001b[0m\u001b[0;34m.\u001b[0m\u001b[0mpack_output\u001b[0m\u001b[0;34m(\u001b[0m\u001b[0mflat_outputs\u001b[0m\u001b[0;34m)\u001b[0m\u001b[0;34m\u001b[0m\u001b[0;34m\u001b[0m\u001b[0m\n\u001b[1;32m    218\u001b[0m \u001b[0;34m\u001b[0m\u001b[0m\n",
            "\u001b[0;32m/usr/local/lib/python3.10/dist-packages/tensorflow/python/eager/polymorphic_function/atomic_function.py\u001b[0m in \u001b[0;36mcall_flat\u001b[0;34m(self, *args)\u001b[0m\n\u001b[1;32m    249\u001b[0m         \u001b[0;32mwith\u001b[0m \u001b[0mrecord\u001b[0m\u001b[0;34m.\u001b[0m\u001b[0mstop_recording\u001b[0m\u001b[0;34m(\u001b[0m\u001b[0;34m)\u001b[0m\u001b[0;34m:\u001b[0m\u001b[0;34m\u001b[0m\u001b[0;34m\u001b[0m\u001b[0m\n\u001b[1;32m    250\u001b[0m           \u001b[0;32mif\u001b[0m \u001b[0mself\u001b[0m\u001b[0;34m.\u001b[0m\u001b[0m_bound_context\u001b[0m\u001b[0;34m.\u001b[0m\u001b[0mexecuting_eagerly\u001b[0m\u001b[0;34m(\u001b[0m\u001b[0;34m)\u001b[0m\u001b[0;34m:\u001b[0m\u001b[0;34m\u001b[0m\u001b[0;34m\u001b[0m\u001b[0m\n\u001b[0;32m--> 251\u001b[0;31m             outputs = self._bound_context.call_function(\n\u001b[0m\u001b[1;32m    252\u001b[0m                 \u001b[0mself\u001b[0m\u001b[0;34m.\u001b[0m\u001b[0mname\u001b[0m\u001b[0;34m,\u001b[0m\u001b[0;34m\u001b[0m\u001b[0;34m\u001b[0m\u001b[0m\n\u001b[1;32m    253\u001b[0m                 \u001b[0mlist\u001b[0m\u001b[0;34m(\u001b[0m\u001b[0margs\u001b[0m\u001b[0;34m)\u001b[0m\u001b[0;34m,\u001b[0m\u001b[0;34m\u001b[0m\u001b[0;34m\u001b[0m\u001b[0m\n",
            "\u001b[0;32m/usr/local/lib/python3.10/dist-packages/tensorflow/python/eager/context.py\u001b[0m in \u001b[0;36mcall_function\u001b[0;34m(self, name, tensor_inputs, num_outputs)\u001b[0m\n\u001b[1;32m   1484\u001b[0m     \u001b[0mcancellation_context\u001b[0m \u001b[0;34m=\u001b[0m \u001b[0mcancellation\u001b[0m\u001b[0;34m.\u001b[0m\u001b[0mcontext\u001b[0m\u001b[0;34m(\u001b[0m\u001b[0;34m)\u001b[0m\u001b[0;34m\u001b[0m\u001b[0;34m\u001b[0m\u001b[0m\n\u001b[1;32m   1485\u001b[0m     \u001b[0;32mif\u001b[0m \u001b[0mcancellation_context\u001b[0m \u001b[0;32mis\u001b[0m \u001b[0;32mNone\u001b[0m\u001b[0;34m:\u001b[0m\u001b[0;34m\u001b[0m\u001b[0;34m\u001b[0m\u001b[0m\n\u001b[0;32m-> 1486\u001b[0;31m       outputs = execute.execute(\n\u001b[0m\u001b[1;32m   1487\u001b[0m           \u001b[0mname\u001b[0m\u001b[0;34m.\u001b[0m\u001b[0mdecode\u001b[0m\u001b[0;34m(\u001b[0m\u001b[0;34m\"utf-8\"\u001b[0m\u001b[0;34m)\u001b[0m\u001b[0;34m,\u001b[0m\u001b[0;34m\u001b[0m\u001b[0;34m\u001b[0m\u001b[0m\n\u001b[1;32m   1488\u001b[0m           \u001b[0mnum_outputs\u001b[0m\u001b[0;34m=\u001b[0m\u001b[0mnum_outputs\u001b[0m\u001b[0;34m,\u001b[0m\u001b[0;34m\u001b[0m\u001b[0;34m\u001b[0m\u001b[0m\n",
            "\u001b[0;32m/usr/local/lib/python3.10/dist-packages/tensorflow/python/eager/execute.py\u001b[0m in \u001b[0;36mquick_execute\u001b[0;34m(op_name, num_outputs, inputs, attrs, ctx, name)\u001b[0m\n\u001b[1;32m     51\u001b[0m   \u001b[0;32mtry\u001b[0m\u001b[0;34m:\u001b[0m\u001b[0;34m\u001b[0m\u001b[0;34m\u001b[0m\u001b[0m\n\u001b[1;32m     52\u001b[0m     \u001b[0mctx\u001b[0m\u001b[0;34m.\u001b[0m\u001b[0mensure_initialized\u001b[0m\u001b[0;34m(\u001b[0m\u001b[0;34m)\u001b[0m\u001b[0;34m\u001b[0m\u001b[0;34m\u001b[0m\u001b[0m\n\u001b[0;32m---> 53\u001b[0;31m     tensors = pywrap_tfe.TFE_Py_Execute(ctx._handle, device_name, op_name,\n\u001b[0m\u001b[1;32m     54\u001b[0m                                         inputs, attrs, num_outputs)\n\u001b[1;32m     55\u001b[0m   \u001b[0;32mexcept\u001b[0m \u001b[0mcore\u001b[0m\u001b[0;34m.\u001b[0m\u001b[0m_NotOkStatusException\u001b[0m \u001b[0;32mas\u001b[0m \u001b[0me\u001b[0m\u001b[0;34m:\u001b[0m\u001b[0;34m\u001b[0m\u001b[0;34m\u001b[0m\u001b[0m\n",
            "\u001b[0;31mKeyboardInterrupt\u001b[0m: "
          ]
        }
      ]
    },
    {
      "cell_type": "markdown",
      "source": [
        "**Note:** The positive class is the minority class; class of fraud images. Usually in binary classification problems, the 1 class is considered to be the positive class."
      ],
      "metadata": {
        "id": "33OA-aEfSAKu"
      }
    },
    {
      "cell_type": "markdown",
      "source": [
        "**problem: notice the 0 values for the macro f1 score. It doesn't make sense that macro f1 score = 0. What is shown is actually the f1 score for the minority class only despite specifying \"macro\" when defining the f1 metric. Let us check this by checking the classification report after training the baseline model for one epoch only.**"
      ],
      "metadata": {
        "id": "bmSviBw7ofEY"
      }
    },
    {
      "cell_type": "code",
      "source": [
        "baseline_model.compile(optimizer=adam, loss='binary_crossentropy', metrics=[metric])\n",
        "baseline_model.fit(ds_train, epochs=1)\n",
        "val_results = baseline_model.evaluate(ds_val)\n",
        "print(\"On the validation set: \", \"val loss = \", val_results[0], \"Validation Macro F1 Score = \", val_results[1])"
      ],
      "metadata": {
        "id": "y4LJVYYG4X61",
        "colab": {
          "base_uri": "https://localhost:8080/"
        },
        "outputId": "afaf25fc-65e9-4a12-8c1a-c5fd7ddf2c7f"
      },
      "execution_count": null,
      "outputs": [
        {
          "output_type": "stream",
          "name": "stdout",
          "text": [
            "51/51 [==============================] - 483s 9s/step - loss: 0.2210 - macro_f1_score: 0.0000e+00\n",
            "51/51 [==============================] - 50s 967ms/step - loss: 0.2209 - macro_f1_score: 0.0000e+00\n",
            "On the validation set:  val loss =  0.2209019809961319 Validation Macro F1 Score =  0.0\n"
          ]
        }
      ]
    },
    {
      "cell_type": "code",
      "source": [
        "val_pred = baseline_model.predict(ds_val) # predictions are floats (probabilities of belonging to the positive class)\n",
        "\n",
        "val_true_labels = []\n",
        "for _, label in ds_val.unbatch().as_numpy_iterator():\n",
        "    val_true_labels.append(label)\n",
        "\n",
        "# val_true_labels is a list of floats."
      ],
      "metadata": {
        "colab": {
          "base_uri": "https://localhost:8080/",
          "height": 53
        },
        "id": "xWpiA_PrKCoq",
        "outputId": "ec6513a3-57fd-4780-b530-18f6ce90ade6"
      },
      "execution_count": null,
      "outputs": [
        {
          "output_type": "stream",
          "name": "stdout",
          "text": [
            "51/51 [==============================] - 52s 1s/step\n"
          ]
        },
        {
          "output_type": "execute_result",
          "data": {
            "text/plain": [
              "'\\nprint(\"Classification Report:\")\\nprint(classification_report(val_true_labels, val_pred.argmax(axis=1)))\\n'"
            ],
            "application/vnd.google.colaboratory.intrinsic+json": {
              "type": "string"
            }
          },
          "metadata": {},
          "execution_count": 23
        }
      ]
    },
    {
      "cell_type": "code",
      "source": [
        "classification_threshold = 0.5\n",
        "val_pred_binary = (val_pred > classification_threshold).astype(int)"
      ],
      "metadata": {
        "id": "RoDPskamO8Uf"
      },
      "execution_count": null,
      "outputs": []
    },
    {
      "cell_type": "code",
      "source": [
        "val_true_labels = [int(label) for label in val_true_labels]"
      ],
      "metadata": {
        "id": "D5dnFLwSP9on"
      },
      "execution_count": null,
      "outputs": []
    },
    {
      "cell_type": "code",
      "source": [
        "print(classification_report(val_true_labels, val_pred_binary))"
      ],
      "metadata": {
        "colab": {
          "base_uri": "https://localhost:8080/"
        },
        "id": "DE1ugsV6P9sc",
        "outputId": "2fe3c0e8-e1a2-49da-928a-1285d20a5022"
      },
      "execution_count": null,
      "outputs": [
        {
          "output_type": "stream",
          "name": "stdout",
          "text": [
            "              precision    recall  f1-score   support\n",
            "\n",
            "           0       0.94      1.00      0.97      1523\n",
            "           1       0.00      0.00      0.00        93\n",
            "\n",
            "    accuracy                           0.94      1616\n",
            "   macro avg       0.47      0.50      0.49      1616\n",
            "weighted avg       0.89      0.94      0.91      1616\n",
            "\n"
          ]
        },
        {
          "output_type": "stream",
          "name": "stderr",
          "text": [
            "/usr/local/lib/python3.10/dist-packages/sklearn/metrics/_classification.py:1344: UndefinedMetricWarning: Precision and F-score are ill-defined and being set to 0.0 in labels with no predicted samples. Use `zero_division` parameter to control this behavior.\n",
            "  _warn_prf(average, modifier, msg_start, len(result))\n",
            "/usr/local/lib/python3.10/dist-packages/sklearn/metrics/_classification.py:1344: UndefinedMetricWarning: Precision and F-score are ill-defined and being set to 0.0 in labels with no predicted samples. Use `zero_division` parameter to control this behavior.\n",
            "  _warn_prf(average, modifier, msg_start, len(result))\n",
            "/usr/local/lib/python3.10/dist-packages/sklearn/metrics/_classification.py:1344: UndefinedMetricWarning: Precision and F-score are ill-defined and being set to 0.0 in labels with no predicted samples. Use `zero_division` parameter to control this behavior.\n",
            "  _warn_prf(average, modifier, msg_start, len(result))\n"
          ]
        }
      ]
    },
    {
      "cell_type": "code",
      "source": [
        "f1_score(val_true_labels, val_pred_binary, average='macro')"
      ],
      "metadata": {
        "colab": {
          "base_uri": "https://localhost:8080/"
        },
        "id": "FEUtNxmyQa3H",
        "outputId": "5bf15eb2-a1fd-4b12-8722-2999f5ba1b0d"
      },
      "execution_count": null,
      "outputs": [
        {
          "output_type": "execute_result",
          "data": {
            "text/plain": [
              "0.4851863650844218"
            ]
          },
          "metadata": {},
          "execution_count": 34
        }
      ]
    },
    {
      "cell_type": "markdown",
      "source": [
        "**Workaround: Define a custom callback**"
      ],
      "metadata": {
        "id": "Lgjp1KvnJyeM"
      }
    },
    {
      "cell_type": "code",
      "source": [
        "class MacroF1ScoreCallback(tf.keras.callbacks.Callback):\n",
        "    def __init__(self, model, ds_train, ds_val):\n",
        "        super(MacroF1ScoreCallback, self).__init__()\n",
        "        self.model = model\n",
        "        self.ds_train = ds_train\n",
        "        self.ds_val = ds_val\n",
        "        self.macro_f1_train = []\n",
        "        self.macro_f1_val = []\n",
        "\n",
        "    def calculate_macro_f1(self, dataset):\n",
        "        y_true = tf.concat([y for x, y in dataset], axis=0)\n",
        "        y_pred_probs = self.model.predict(dataset)\n",
        "        y_pred = (y_pred_probs > 0.5).astype(int)\n",
        "        macro_f1 = f1_score(y_true.numpy(), y_pred, average='macro')\n",
        "        return macro_f1\n",
        "\n",
        "    def on_epoch_end(self, epoch, logs=None):\n",
        "        macro_f1_train = self.calculate_macro_f1(self.ds_train)\n",
        "        self.macro_f1_train.append(macro_f1_train)\n",
        "        macro_f1_val = self.calculate_macro_f1(self.ds_val)\n",
        "        self.macro_f1_val.append(macro_f1_val)\n",
        "        print(f'Epoch {epoch + 1} - Macro F1 Score (Train): {macro_f1_train}')\n",
        "        print(f'Epoch {epoch + 1} - Macro F1 Score (Validation): {macro_f1_val}')\n",
        "\n",
        "macro_f1_callback = MacroF1ScoreCallback(model=baseline_model, ds_train=ds_train, ds_val=ds_val)"
      ],
      "metadata": {
        "id": "l48avO-CWytJ"
      },
      "execution_count": null,
      "outputs": []
    },
    {
      "cell_type": "code",
      "source": [
        "f1_metric = tf.keras.metrics.F1Score(average=None, threshold= 0.5, name='f1_score')\n",
        "baseline_model.compile(optimizer=adam, loss='binary_crossentropy', metrics=[f1_metric])\n",
        "\n",
        "# Fit the model with the custom callback\n",
        "baseline_model.fit(ds_train, epochs=1, validation_data=ds_val, callbacks=[macro_f1_callback])"
      ],
      "metadata": {
        "colab": {
          "base_uri": "https://localhost:8080/"
        },
        "id": "JAGMtw90WyqG",
        "outputId": "2b9f8352-7962-4561-8ade-cdf99da1f082"
      },
      "execution_count": null,
      "outputs": [
        {
          "output_type": "stream",
          "name": "stdout",
          "text": [
            "51/51 [==============================] - 199s 4s/step\n",
            "51/51 [==============================] - 50s 965ms/step\n",
            "Epoch 1 - Macro F1 Score (Train): 0.4851840050979767\n",
            "Epoch 1 - Macro F1 Score (Validation): 0.4851863650844218\n",
            "51/51 [==============================] - 913s 18s/step - loss: 0.2209 - f1_score: 0.0000e+00 - val_loss: 0.2208 - val_f1_score: 0.0000e+00\n"
          ]
        },
        {
          "output_type": "execute_result",
          "data": {
            "text/plain": [
              "<keras.src.callbacks.History at 0x7cc73c97ec20>"
            ]
          },
          "metadata": {},
          "execution_count": 39
        }
      ]
    },
    {
      "cell_type": "markdown",
      "source": [
        "# **Image Augmentation**"
      ],
      "metadata": {
        "id": "XlHNY-Zto918"
      }
    },
    {
      "cell_type": "markdown",
      "source": [
        "**Reminder: We augment training data only!**"
      ],
      "metadata": {
        "id": "g6Jv_bCsb7Ua"
      }
    },
    {
      "cell_type": "markdown",
      "source": [
        "### Augmentation functions"
      ],
      "metadata": {
        "id": "tM0-qLGV_7XZ"
      }
    },
    {
      "cell_type": "code",
      "source": [
        "seed = tf.constant([random.randint(0, 9999), 0], dtype=tf.int32)"
      ],
      "metadata": {
        "id": "rzJEDYYqe0F1"
      },
      "execution_count": 50,
      "outputs": []
    },
    {
      "cell_type": "code",
      "source": [
        "def add_noise(img, noise_factor=0.2):\n",
        "    noise = tf.random.normal(shape=tf.shape(img), mean=0.0, stddev=noise_factor, dtype=tf.float32)\n",
        "    noisy_image = img + noise\n",
        "    noisy_image = tf.clip_by_value(noisy_image, 0.0, 1.0)\n",
        "    return noisy_image\n",
        "\n",
        "def flip_left_right(image):\n",
        "  return tf.image.flip_left_right(image)\n",
        "\n",
        "def random_hue(image):\n",
        "  return tf.image.stateless_random_hue(image, max_delta= 0.469, seed= seed)\n",
        "\n",
        "def random_saturation(image):\n",
        "  return tf.image.stateless_random_saturation(image, lower=0.469, upper=90, seed = seed)\n",
        "\n",
        "#def random_quality(image):\n",
        " # return tf.image.stateless_random_jpeg_quality(image, min_jpeg_quality=60, max_jpeg_quality=90, seed= seed)"
      ],
      "metadata": {
        "id": "jNLP6VAjItD7"
      },
      "execution_count": 51,
      "outputs": []
    },
    {
      "cell_type": "markdown",
      "source": [
        "**Note that the seed is obligatory in tf.image functions whereas it is an optional argument in the tf.keras layers.** <br/>\n",
        "**I don't understand why it should have two elements.** <br/>\n",
        "A tf.image function with the same seed always outputs the same augmented image."
      ],
      "metadata": {
        "id": "ithBakC8fFna"
      }
    },
    {
      "cell_type": "code",
      "source": [
        "random_brightness = tf.keras.layers.RandomBrightness(factor= 0.8, value_range=[0.0, 1.0], seed=None)\n",
        "random_contrast = tf.keras.layers.RandomContrast(factor=0.5, seed=None)\n",
        "random_translation = tf.keras.layers.RandomTranslation(height_factor= 0.5,width_factor=0.5,fill_mode='reflect',interpolation='bilinear',seed=None)\n",
        "random_rotation = tf.keras.layers.RandomRotation(factor=0.3, fill_mode='reflect',interpolation='bilinear',seed=None)\n",
        "random_zoom = tf.keras.layers.RandomZoom(height_factor= (-0.3, -0.2), width_factor=None,fill_mode='reflect',interpolation='bilinear',seed=None)"
      ],
      "metadata": {
        "id": "D1A2762gpAq4"
      },
      "execution_count": 32,
      "outputs": []
    },
    {
      "cell_type": "code",
      "source": [
        "augmentation_functions= [add_noise, flip_left_right, random_hue, random_saturation, random_brightness, random_contrast,\n",
        "                        random_translation,  random_rotation, random_zoom]"
      ],
      "metadata": {
        "id": "DsJA968jR6Bm"
      },
      "execution_count": 52,
      "outputs": []
    },
    {
      "cell_type": "code",
      "source": [
        "len(augmentation_functions)"
      ],
      "metadata": {
        "colab": {
          "base_uri": "https://localhost:8080/"
        },
        "id": "OpZSTUtpzwuH",
        "outputId": "364404ea-f7a1-41d2-d1b1-d9c8308eb18f"
      },
      "execution_count": 53,
      "outputs": [
        {
          "output_type": "execute_result",
          "data": {
            "text/plain": [
              "9"
            ]
          },
          "metadata": {},
          "execution_count": 53
        }
      ]
    },
    {
      "cell_type": "markdown",
      "source": [
        "### Attempt 1:"
      ],
      "metadata": {
        "id": "Up7nSqngpYbR"
      }
    },
    {
      "cell_type": "code",
      "source": [
        "def augment(image, label):\n",
        "\n",
        "    augmented_images = [image]  # Should I add the original image to this list?\n",
        "\n",
        "    if label == 1:\n",
        "        #for func in augmentation_functions:\n",
        "         #     augmented_images.append(func(image))\n",
        "        augmented_images.append((random_contrast(image),label))\n",
        "\n",
        "    for aug_img in augmented_images:\n",
        "        yield aug_img, label\n",
        "\n",
        "    # return augmented_images, tf.repeat(label, len(augmented_images))\n",
        "    # returns a tuple with two elements. The first is a list of 10 tensor images and the second is a tensor with the 10 labels."
      ],
      "metadata": {
        "id": "fYc2ImsvuG4s"
      },
      "execution_count": 42,
      "outputs": []
    },
    {
      "cell_type": "markdown",
      "source": [
        "*   We could've used ***return augmented_images, tf.repeat(label, len(augmented_images))*** which returns a tuple with two elements. The first is a list of 10 tensor images and the second is a tensor with the 10 labels. So far so good. The problem is when we apply the ds_train.map(augment) which will add to ds_train this tuple representing 10 images together which will be considered an element of ds_train. The usual element of ds_train, however, is a tuple with one image and one label only. This will make the tf.keras.layers confuse the shapes of the input images and lead to ValueError that the tensor shape is unknown.\n",
        "*   The yield keyword returns a generator which can be used to create an augmented dataset using tf.dataset.Data.from_generator. We can then concatenated the augmented dataset with ds_train.\n",
        "\n",
        "\n",
        "*   I want to use flatmap. Maybe something like this: **.flat_map(lambda x, y: tf.data.Dataset.from_generator(lambda: augment(x, y), output_signature=(tf.TensorSpec(shape=(None, None, None), dtype=tf.float32), tf.TensorSpec(shape=(), dtype=tf.int32))))**?"
      ],
      "metadata": {
        "id": "CgToUbDixfsF"
      }
    },
    {
      "cell_type": "code",
      "source": [
        "ds_train_augmented = ds_train.flat_map(lambda image, label: tf.data.Dataset.from_generator(\n",
        "    augment, output_signature=(tf.TensorSpec(shape=(600, 800, 3), dtype=tf.float32), tf.TensorSpec(shape=(), dtype=tf.int64)), args=(image, label)))"
      ],
      "metadata": {
        "id": "XZSPLrciAGCg"
      },
      "execution_count": 46,
      "outputs": []
    },
    {
      "cell_type": "code",
      "source": [
        "len(ds_train_augmented)"
      ],
      "metadata": {
        "colab": {
          "base_uri": "https://localhost:8080/",
          "height": 263
        },
        "id": "EkUdh7LEAUHP",
        "outputId": "67328278-4841-43cc-a393-44859de377bc"
      },
      "execution_count": 47,
      "outputs": [
        {
          "output_type": "error",
          "ename": "TypeError",
          "evalue": "The dataset length is unknown.",
          "traceback": [
            "\u001b[0;31m---------------------------------------------------------------------------\u001b[0m",
            "\u001b[0;31mTypeError\u001b[0m                                 Traceback (most recent call last)",
            "\u001b[0;32m<ipython-input-47-e32752622fcf>\u001b[0m in \u001b[0;36m<cell line: 1>\u001b[0;34m()\u001b[0m\n\u001b[0;32m----> 1\u001b[0;31m \u001b[0mlen\u001b[0m\u001b[0;34m(\u001b[0m\u001b[0mds_train_augmented\u001b[0m\u001b[0;34m)\u001b[0m\u001b[0;34m\u001b[0m\u001b[0;34m\u001b[0m\u001b[0m\n\u001b[0m",
            "\u001b[0;32m/usr/local/lib/python3.10/dist-packages/tensorflow/python/data/ops/dataset_ops.py\u001b[0m in \u001b[0;36m__len__\u001b[0;34m(self)\u001b[0m\n\u001b[1;32m    530\u001b[0m       \u001b[0;32mraise\u001b[0m \u001b[0mTypeError\u001b[0m\u001b[0;34m(\u001b[0m\u001b[0;34m\"The dataset is infinite.\"\u001b[0m\u001b[0;34m)\u001b[0m\u001b[0;34m\u001b[0m\u001b[0;34m\u001b[0m\u001b[0m\n\u001b[1;32m    531\u001b[0m     \u001b[0;32mif\u001b[0m \u001b[0mlength\u001b[0m\u001b[0;34m.\u001b[0m\u001b[0mnumpy\u001b[0m\u001b[0;34m(\u001b[0m\u001b[0;34m)\u001b[0m \u001b[0;34m==\u001b[0m \u001b[0mUNKNOWN\u001b[0m\u001b[0;34m:\u001b[0m\u001b[0;34m\u001b[0m\u001b[0;34m\u001b[0m\u001b[0m\n\u001b[0;32m--> 532\u001b[0;31m       \u001b[0;32mraise\u001b[0m \u001b[0mTypeError\u001b[0m\u001b[0;34m(\u001b[0m\u001b[0;34m\"The dataset length is unknown.\"\u001b[0m\u001b[0;34m)\u001b[0m\u001b[0;34m\u001b[0m\u001b[0;34m\u001b[0m\u001b[0m\n\u001b[0m\u001b[1;32m    533\u001b[0m     \u001b[0;32mreturn\u001b[0m \u001b[0mlength\u001b[0m\u001b[0;34m\u001b[0m\u001b[0;34m\u001b[0m\u001b[0m\n\u001b[1;32m    534\u001b[0m \u001b[0;34m\u001b[0m\u001b[0m\n",
            "\u001b[0;31mTypeError\u001b[0m: The dataset length is unknown."
          ]
        }
      ]
    },
    {
      "cell_type": "code",
      "source": [
        "tf.data.experimental.cardinality(ds_train_augmented).numpy()"
      ],
      "metadata": {
        "colab": {
          "base_uri": "https://localhost:8080/"
        },
        "id": "yvJQQv_6BusE",
        "outputId": "aed6e0cb-758b-417c-cb5c-3ba30aebd5d2"
      },
      "execution_count": 48,
      "outputs": [
        {
          "output_type": "execute_result",
          "data": {
            "text/plain": [
              "-2"
            ]
          },
          "metadata": {},
          "execution_count": 48
        }
      ]
    },
    {
      "cell_type": "markdown",
      "source": [
        "### Attempt 2: Create a list of augmented images, create a tensorflow dataset from it, and then concatenate it with the original dataset."
      ],
      "metadata": {
        "id": "Qf8sZSMypdF9"
      }
    },
    {
      "cell_type": "code",
      "source": [
        "augmented_images = []\n",
        "count = 0\n",
        "for image, label in ds_train:\n",
        "  if label == 1:\n",
        "        aug_img = random_contrast(image)\n",
        "        augmented_images.append((aug_img, label))\n",
        "        # count = count + 1\n",
        "        # if count >= 2:\n",
        "          #   break"
      ],
      "metadata": {
        "id": "oOlqtRS-DwRR"
      },
      "execution_count": null,
      "outputs": []
    },
    {
      "cell_type": "code",
      "source": [
        "augmented_ds_from_slices = tf.data.Dataset.from_tensor_slices(\n",
        "    (tf.stack([img for img, _ in augmented_images]),\n",
        "     tf.stack([lbl for _, lbl in augmented_images]))\n",
        ")"
      ],
      "metadata": {
        "id": "RKylpctoUDMy"
      },
      "execution_count": 88,
      "outputs": []
    },
    {
      "cell_type": "code",
      "source": [
        "augmented_ds_from_slices"
      ],
      "metadata": {
        "colab": {
          "base_uri": "https://localhost:8080/"
        },
        "id": "Hiny0mq-UGsu",
        "outputId": "e7ac4175-18c9-40b1-fc4a-560bd469c4e8"
      },
      "execution_count": 89,
      "outputs": [
        {
          "output_type": "execute_result",
          "data": {
            "text/plain": [
              "<_TensorSliceDataset element_spec=(TensorSpec(shape=(600, 800, 3), dtype=tf.float32, name=None), TensorSpec(shape=(), dtype=tf.int64, name=None))>"
            ]
          },
          "metadata": {},
          "execution_count": 89
        }
      ]
    },
    {
      "cell_type": "code",
      "source": [
        "len(augmented_ds_from_slices)"
      ],
      "metadata": {
        "colab": {
          "base_uri": "https://localhost:8080/"
        },
        "id": "pWnDXxJ03XR4",
        "outputId": "21ff9788-f5b7-44af-e918-5e932be097d1"
      },
      "execution_count": 109,
      "outputs": [
        {
          "output_type": "execute_result",
          "data": {
            "text/plain": [
              "2"
            ]
          },
          "metadata": {},
          "execution_count": 109
        }
      ]
    },
    {
      "cell_type": "code",
      "source": [
        "ds_train_augmented_from_slices = ds_train.concatenate(augmented_ds_from_slices)"
      ],
      "metadata": {
        "id": "_2OAg4_fYVf1"
      },
      "execution_count": 90,
      "outputs": []
    },
    {
      "cell_type": "markdown",
      "source": [
        "To check the size of a tensorflow dataset:"
      ],
      "metadata": {
        "id": "lLtbiBZj30mg"
      }
    },
    {
      "cell_type": "code",
      "source": [
        "len(ds_train_augmented_from_slices)"
      ],
      "metadata": {
        "colab": {
          "base_uri": "https://localhost:8080/"
        },
        "id": "3LRSEor63erx",
        "outputId": "6051c4a1-9c31-491d-a4fd-40ac44d51d11"
      },
      "execution_count": 110,
      "outputs": [
        {
          "output_type": "execute_result",
          "data": {
            "text/plain": [
              "6465"
            ]
          },
          "metadata": {},
          "execution_count": 110
        }
      ]
    },
    {
      "cell_type": "code",
      "source": [
        "tf.data.experimental.cardinality(ds_train_augmented_from_slices).numpy()"
      ],
      "metadata": {
        "colab": {
          "base_uri": "https://localhost:8080/"
        },
        "id": "ZDTBAi8u3sxv",
        "outputId": "581c3092-93e2-4c21-c284-6ffec2a3b7cf"
      },
      "execution_count": 111,
      "outputs": [
        {
          "output_type": "execute_result",
          "data": {
            "text/plain": [
              "6465"
            ]
          },
          "metadata": {},
          "execution_count": 111
        }
      ]
    },
    {
      "cell_type": "markdown",
      "source": [
        "using tf.data.Dataset.from_generator"
      ],
      "metadata": {
        "id": "YYNVD07Qdbcw"
      }
    },
    {
      "cell_type": "code",
      "source": [
        "def image_label_generator():\n",
        "    for img, lbl in augmented_images:\n",
        "        yield img, lbl\n",
        "\n",
        "augmented_ds_from_gen = tf.data.Dataset.from_generator(\n",
        "    image_label_generator,\n",
        "    output_signature=(\n",
        "        tf.TensorSpec(shape=(height, width, 3), dtype=tf.float32),\n",
        "        tf.TensorSpec(shape=(), dtype=tf.int64)\n",
        "    )\n",
        ")"
      ],
      "metadata": {
        "id": "BNirTQaNFeHs"
      },
      "execution_count": 78,
      "outputs": []
    },
    {
      "cell_type": "code",
      "source": [
        "augmented_ds_from_gen"
      ],
      "metadata": {
        "colab": {
          "base_uri": "https://localhost:8080/"
        },
        "id": "1sORiPpjYUoq",
        "outputId": "88b4db20-a4e2-47d9-e504-06888ecbf428"
      },
      "execution_count": 79,
      "outputs": [
        {
          "output_type": "execute_result",
          "data": {
            "text/plain": [
              "<_FlatMapDataset element_spec=(TensorSpec(shape=(600, 800, 3), dtype=tf.float32, name=None), TensorSpec(shape=(), dtype=tf.int64, name=None))>"
            ]
          },
          "metadata": {},
          "execution_count": 79
        }
      ]
    },
    {
      "cell_type": "code",
      "source": [
        "ds_train"
      ],
      "metadata": {
        "colab": {
          "base_uri": "https://localhost:8080/"
        },
        "id": "AEf1KyxiYhrn",
        "outputId": "6cfc5aa9-9597-4b80-adb3-6dc58d720dfc"
      },
      "execution_count": 80,
      "outputs": [
        {
          "output_type": "execute_result",
          "data": {
            "text/plain": [
              "<_MapDataset element_spec=(TensorSpec(shape=(600, 800, 3), dtype=tf.float32, name=None), TensorSpec(shape=(), dtype=tf.int64, name=None))>"
            ]
          },
          "metadata": {},
          "execution_count": 80
        }
      ]
    },
    {
      "cell_type": "code",
      "source": [
        "ds_train_augmented_from_gen = ds_train.concatenate(augmented_ds_from_gen)"
      ],
      "metadata": {
        "id": "5w8rJSEFYl-e"
      },
      "execution_count": 81,
      "outputs": []
    },
    {
      "cell_type": "markdown",
      "source": [
        "### Attempt 3: Creating an empty tensorflow dataset and adding to it augmented images one by one and then once it is ready we concatenate it with the original dataset.\n"
      ],
      "metadata": {
        "id": "FFXmWG3JZgAe"
      }
    },
    {
      "cell_type": "code",
      "source": [
        "input_shape = (600, 800, 3)\n",
        "\n",
        "# Create empty tensors\n",
        "empty_input = tf.Variable(tf.zeros(input_shape, dtype=tf.float32), trainable=False)\n",
        "empty_label = tf.Variable(tf.zeros((), dtype=tf.int64), trainable=False)\n",
        "empty_data = (empty_input, empty_label)\n",
        "\n",
        "augmented_ds = tf.data.Dataset.from_tensors(empty_data)\n",
        "\n",
        "count=0\n",
        "for image, label in ds_train:\n",
        "    if label == 1:\n",
        "            augmented_image = random_contrast(image)\n",
        "            empty_input.assign(augmented_image)\n",
        "            empty_label.assign(label)\n",
        "            augmented_ds = augmented_ds.concatenate(tf.data.Dataset.from_tensors((empty_input, empty_label)))\n",
        "            count = count + 1\n",
        "    if count >= 2:\n",
        "            break"
      ],
      "metadata": {
        "id": "8WXh5eiNBCAr"
      },
      "execution_count": 101,
      "outputs": []
    },
    {
      "cell_type": "code",
      "source": [
        "augmented_ds"
      ],
      "metadata": {
        "colab": {
          "base_uri": "https://localhost:8080/"
        },
        "id": "raNO2jTjqPvi",
        "outputId": "9586c2e3-7040-4c03-f634-b44436eac6d8"
      },
      "execution_count": 102,
      "outputs": [
        {
          "output_type": "execute_result",
          "data": {
            "text/plain": [
              "<_ConcatenateDataset element_spec=(TensorSpec(shape=(600, 800, 3), dtype=tf.float32, name=None), TensorSpec(shape=(), dtype=tf.int64, name=None))>"
            ]
          },
          "metadata": {},
          "execution_count": 102
        }
      ]
    },
    {
      "cell_type": "code",
      "source": [
        "ds_train_augmented = ds_train.concatenate(augmented_ds)"
      ],
      "metadata": {
        "id": "lfLR1TlCO11m"
      },
      "execution_count": 103,
      "outputs": []
    },
    {
      "cell_type": "code",
      "source": [
        "ds_train_augmented"
      ],
      "metadata": {
        "colab": {
          "base_uri": "https://localhost:8080/"
        },
        "id": "e0_T0EulwRlo",
        "outputId": "420f5c94-a224-4a76-d872-f454708bd37f"
      },
      "execution_count": 104,
      "outputs": [
        {
          "output_type": "execute_result",
          "data": {
            "text/plain": [
              "<_ConcatenateDataset element_spec=(TensorSpec(shape=(600, 800, 3), dtype=tf.float32, name=None), TensorSpec(shape=(), dtype=tf.int64, name=None))>"
            ]
          },
          "metadata": {},
          "execution_count": 104
        }
      ]
    },
    {
      "cell_type": "code",
      "source": [],
      "metadata": {
        "id": "Aje527s6wSj1"
      },
      "execution_count": null,
      "outputs": []
    },
    {
      "cell_type": "markdown",
      "source": [
        "How to save and load a NN model?\n",
        "https://machinelearningmastery.com/save-load-keras-deep-learning-models/ <br/>\n",
        "The model after loading might give different results: https://machinelearningmastery.com/different-results-each-time-in-machine-learning/"
      ],
      "metadata": {
        "id": "KwdQz0t2u27s"
      }
    }
  ]
}